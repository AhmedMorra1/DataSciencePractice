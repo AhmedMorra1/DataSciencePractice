{
  "nbformat": 4,
  "nbformat_minor": 0,
  "metadata": {
    "colab": {
      "name": "Why FPX dominated G2.ipynb",
      "provenance": [],
      "include_colab_link": true
    },
    "kernelspec": {
      "name": "python3",
      "display_name": "Python 3"
    }
  },
  "cells": [
    {
      "cell_type": "markdown",
      "metadata": {
        "id": "view-in-github",
        "colab_type": "text"
      },
      "source": [
        "<a href=\"https://colab.research.google.com/github/AhmedMorra1/DataSciencePractice/blob/master/Why_FPX_dominated_G2.ipynb\" target=\"_parent\"><img src=\"https://colab.research.google.com/assets/colab-badge.svg\" alt=\"Open In Colab\"/></a>"
      ]
    },
    {
      "cell_type": "markdown",
      "metadata": {
        "id": "qP9ermfLi-RY",
        "colab_type": "text"
      },
      "source": [
        "#**G2 had everything to win Worlds 2019, what happened?**"
      ]
    },
    {
      "cell_type": "markdown",
      "metadata": {
        "id": "caRwSlSqktUG",
        "colab_type": "text"
      },
      "source": [
        "Situation: To start, describe the current state to your audience. What is the status quo you’re trying to change?\n",
        "\n",
        "Problem: Next, picture the problem. What’s the issue with the situation? Wherein lies the pain you’re trying to solve?\n",
        "\n",
        "Solution: Present the solution. How do you solve the problem? How do you cure the pain?\n",
        "\n",
        "Next Steps: You convinced the audience. What are the next steps you need to take? Which actions need to be taken?"
      ]
    },
    {
      "cell_type": "markdown",
      "metadata": {
        "id": "mNrOpRA5ntJp",
        "colab_type": "text"
      },
      "source": [
        "**Situation**\n",
        "Funplus Phoenix dominated G2 Esports in League of Legends Worlds Final, Winning with a clean sweep 3-0, for the second year in a row the LPL team clean sweep the EU team in the finals."
      ]
    },
    {
      "cell_type": "markdown",
      "metadata": {
        "id": "6BuSbs0SjC9N",
        "colab_type": "text"
      },
      "source": [
        "**Problem**  Though LPL is known to be a stronger region than LEC, G2 were the favorites before the start of the tournament, They won every championship they participated in through the whole year, LEC spring split, Mid Season Invitational and LEC summer split.\n",
        "G2 Proved themselves in their region and internationaly, FPX on the other hand only won the LPL summer split, positioned 3rd in spring split.\n",
        "G2 players had international experience while FPX players didn't have any."
      ]
    },
    {
      "cell_type": "markdown",
      "metadata": {
        "id": "aAsp8rY80If-",
        "colab_type": "text"
      },
      "source": [
        "**Solution** In this notebook we will try to gain insight on why Funplus Phoenix as a team and individualy performed better than G2 Esports and won the tournamnet.\n",
        "Since the two teams compete in two different regions we will only compare between them using Worlds Championship data. "
      ]
    },
    {
      "cell_type": "markdown",
      "metadata": {
        "id": "8_C-xVR_3PFn",
        "colab_type": "text"
      },
      "source": [
        "We will start to explore individual performance of each player from both teams and how each rank against their opponent through the tournament, that will give us a hint about the individual power before diving into the team work."
      ]
    },
    {
      "cell_type": "code",
      "metadata": {
        "id": "-pJfPrPviwpO",
        "colab_type": "code",
        "colab": {}
      },
      "source": [
        ""
      ],
      "execution_count": 0,
      "outputs": []
    }
  ]
}