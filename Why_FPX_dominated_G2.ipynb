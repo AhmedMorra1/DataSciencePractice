{
  "nbformat": 4,
  "nbformat_minor": 0,
  "metadata": {
    "colab": {
      "name": "Why FPX dominated G2.ipynb",
      "provenance": [],
      "include_colab_link": true
    },
    "kernelspec": {
      "name": "python3",
      "display_name": "Python 3"
    }
  },
  "cells": [
    {
      "cell_type": "markdown",
      "metadata": {
        "id": "view-in-github",
        "colab_type": "text"
      },
      "source": [
        "<a href=\"https://colab.research.google.com/github/AhmedMorra1/DataSciencePractice/blob/master/Why_FPX_dominated_G2.ipynb\" target=\"_parent\"><img src=\"https://colab.research.google.com/assets/colab-badge.svg\" alt=\"Open In Colab\"/></a>"
      ]
    },
    {
      "cell_type": "markdown",
      "metadata": {
        "id": "qP9ermfLi-RY",
        "colab_type": "text"
      },
      "source": [
        "#**G2 had everything to win Worlds 2019, what happened?**"
      ]
    },
    {
      "cell_type": "markdown",
      "metadata": {
        "id": "caRwSlSqktUG",
        "colab_type": "text"
      },
      "source": [
        "Situation: To start, describe the current state to your audience. What is the status quo you’re trying to change?\n",
        "\n",
        "Problem: Next, picture the problem. What’s the issue with the situation? Wherein lies the pain you’re trying to solve?\n",
        "\n",
        "Solution: Present the solution. How do you solve the problem? How do you cure the pain?\n",
        "\n",
        "Next Steps: You convinced the audience. What are the next steps you need to take? Which actions need to be taken?"
      ]
    },
    {
      "cell_type": "markdown",
      "metadata": {
        "id": "mNrOpRA5ntJp",
        "colab_type": "text"
      },
      "source": [
        "**Situation**\n",
        "Funplus Phoenix dominated G2 Esports in League of Legends Worlds Final, Winning with a clean sweep 3-0, for the second year in a row the LPL team clean sweep the EU team in the finals."
      ]
    },
    {
      "cell_type": "markdown",
      "metadata": {
        "id": "6BuSbs0SjC9N",
        "colab_type": "text"
      },
      "source": [
        "**Problem**  Though LPL is known to be a stronger region than LEC, G2 were the favorites before the start of the tournament, They won every championship they participated in through the whole year, LEC spring split, Mid Season Invitational and LEC summer split.\n",
        "G2 Proved themselves in their region and internationaly, FPX on the other hand only won the LPL summer split, positioned 3rd in spring split.\n",
        "G2 players had international experience while FPX players didn't have any."
      ]
    },
    {
      "cell_type": "markdown",
      "metadata": {
        "id": "aAsp8rY80If-",
        "colab_type": "text"
      },
      "source": [
        "**Solution** In this notebook we will try to gain insight on why Funplus Phoenix as a team and individualy performed better than G2 Esports and won the tournamnet.\n",
        "Since the two teams compete in two different regions we will only compare between them using Worlds Championship data. "
      ]
    },
    {
      "cell_type": "markdown",
      "metadata": {
        "id": "8_C-xVR_3PFn",
        "colab_type": "text"
      },
      "source": [
        "We will start to explore individual performance of each player from both teams and how each rank against their opponent through the tournament, that will give us a hint about the individual power before diving into the team work."
      ]
    },
    {
      "cell_type": "markdown",
      "metadata": {
        "id": "q5S1iUVF5C1J",
        "colab_type": "text"
      },
      "source": [
        "First let's download the data from http://oracleselixir.com"
      ]
    },
    {
      "cell_type": "code",
      "metadata": {
        "id": "-pJfPrPviwpO",
        "colab_type": "code",
        "colab": {}
      },
      "source": [
        "!wget http://oracleselixir.com/gamedata/2019-worlds/"
      ],
      "execution_count": 0,
      "outputs": []
    },
    {
      "cell_type": "markdown",
      "metadata": {
        "id": "vwNWG9UZ5eXl",
        "colab_type": "text"
      },
      "source": [
        "Now let's import the needed libraries for this analysis"
      ]
    },
    {
      "cell_type": "code",
      "metadata": {
        "id": "mCaQMy4J5UvF",
        "colab_type": "code",
        "colab": {}
      },
      "source": [
        "import pandas as pd\n",
        "import numpy as np\n",
        "import seaborn as sns\n",
        "import matplotlib.pyplot as plt\n",
        "%matplotlib inline\n",
        "pd.set_option('display.max_column',None)\n",
        "pd.set_option('display.max_row',None)"
      ],
      "execution_count": 0,
      "outputs": []
    },
    {
      "cell_type": "markdown",
      "metadata": {
        "id": "omaemU006AG4",
        "colab_type": "text"
      },
      "source": [
        "Let's put our data into data frame to ease our exploration process"
      ]
    },
    {
      "cell_type": "code",
      "metadata": {
        "id": "bHrBnUfL58bp",
        "colab_type": "code",
        "colab": {}
      },
      "source": [
        "df = pd.read_excel('index.html')"
      ],
      "execution_count": 0,
      "outputs": []
    },
    {
      "cell_type": "markdown",
      "metadata": {
        "id": "PVp6HiIH6VC7",
        "colab_type": "text"
      },
      "source": [
        "Since the two teams didn't participate in the play-in stage I will remove the matches from that stage from the dataframe.\n",
        "\n",
        "First let's get the unique values for the column 'week' to see which weeks we are not interested in"
      ]
    },
    {
      "cell_type": "code",
      "metadata": {
        "id": "Ozw0Zick6LY7",
        "colab_type": "code",
        "outputId": "88f87c94-084f-4f13-fd4b-5e82827a4492",
        "colab": {
          "base_uri": "https://localhost:8080/",
          "height": 34
        }
      },
      "source": [
        "df['week'].unique()"
      ],
      "execution_count": 4,
      "outputs": [
        {
          "output_type": "execute_result",
          "data": {
            "text/plain": [
              "array(['PI-RR', 'PI-KO', 'G', 'QF', 'SF', 'F'], dtype=object)"
            ]
          },
          "metadata": {
            "tags": []
          },
          "execution_count": 4
        }
      ]
    },
    {
      "cell_type": "markdown",
      "metadata": {
        "id": "NVT9WgXW65nT",
        "colab_type": "text"
      },
      "source": [
        "Let's Delete these weeks ['PI-RR','PI-KO','F']\n",
        "\n",
        "I deleted the final to only calculate the road to the finals for both teams"
      ]
    },
    {
      "cell_type": "code",
      "metadata": {
        "id": "5mzM_Yi_6swc",
        "colab_type": "code",
        "colab": {}
      },
      "source": [
        "df = df[df['week'].isin(['G', 'QF', 'SF'])]"
      ],
      "execution_count": 0,
      "outputs": []
    },
    {
      "cell_type": "markdown",
      "metadata": {
        "id": "StGK65t6qei9",
        "colab_type": "text"
      },
      "source": [
        "Let's seperate the teams from the players"
      ]
    },
    {
      "cell_type": "code",
      "metadata": {
        "id": "aJoj-PMv7JIm",
        "colab_type": "code",
        "colab": {}
      },
      "source": [
        "teams = df.loc[df['player']=='Team']"
      ],
      "execution_count": 0,
      "outputs": []
    },
    {
      "cell_type": "code",
      "metadata": {
        "id": "d0GLHMHD8EUD",
        "colab_type": "code",
        "colab": {}
      },
      "source": [
        "playernames = ['Wunder','GimGoon','Jankos','Tian','Caps','Doinb','Perkz','Lwx','Mikyx','Crisp']\n",
        "players = df.loc[(df['player']!='Team') & (df['player'].isin(playernames))]"
      ],
      "execution_count": 0,
      "outputs": []
    },
    {
      "cell_type": "markdown",
      "metadata": {
        "id": "A8w5BgoTrUWy",
        "colab_type": "text"
      },
      "source": [
        "Now let's start to explore players data.\n",
        "\n",
        "What we will focus on is \n",
        "\n",
        "1.   KDA (all)\n",
        "2.   first blood/first blood assist (all)\n",
        "3.   Kill per minute (all except support)\n",
        "4.   Damage to champs / Damage to champs per minute / Damage Share (all)\n",
        "5.   Earned gold per minute / gold share /gold at 10/15 (all)\n",
        "6.   Wards / wards per minute   (support)\n",
        "7.   Cs per minute/cs at 15  (top/mid/bot)\n",
        "8.   Experience at 10 (all)\n",
        "9.   Monster kills (jungler)\n",
        "\n",
        "\n"
      ]
    },
    {
      "cell_type": "markdown",
      "metadata": {
        "id": "xkA84uUCuuMS",
        "colab_type": "text"
      },
      "source": [
        "Let's start with TOP Lane and explore the mentioned stats."
      ]
    },
    {
      "cell_type": "code",
      "metadata": {
        "id": "ENPprOcKq_s_",
        "colab_type": "code",
        "colab": {
          "base_uri": "https://localhost:8080/",
          "height": 207
        },
        "outputId": "9815cd48-37d1-40c3-862d-706fcec2db4c"
      },
      "source": [
        "rules = ['Top','Jungle','Middle','ADC','Support']\n",
        "y = 0\n",
        "fig,ax = plt.subplots(1,5,figsize=(30,2),squeeze=False)\n",
        "for i in rules:\n",
        "    kda = players.loc[players['position']==i].groupby(['player'])['k','d','a'].sum()\n",
        "    kda['kda'] = (kda['k']+kda['a'])/kda['d']\n",
        "    kda = kda.sort_values(['kda'],ascending=False)\n",
        "    sns.barplot(x=kda['kda'],y=kda.index,data=kda,ax=ax[0][y])\n",
        "    ax[0][y].set_title(i)\n",
        "    y += 1\n",
        "plt.show()      "
      ],
      "execution_count": 83,
      "outputs": [
        {
          "output_type": "display_data",
          "data": {
            "image/png": "[encoded data removed]",
            "text/plain": [
              "<Figure size 2160x144 with 5 Axes>"
            ]
          },
          "metadata": {
            "tags": []
          }
        }
      ]
    },
    {
      "cell_type": "markdown",
      "metadata": {
        "id": "g7duO_TVCkqy",
        "colab_type": "text"
      },
      "source": [
        "As we can see FPX Player dominates the KDA stats over G2 Esports players"
      ]
    },
    {
      "cell_type": "code",
      "metadata": {
        "id": "nRJ0YtO8vmk_",
        "colab_type": "code",
        "colab": {}
      },
      "source": [
        ""
      ],
      "execution_count": 0,
      "outputs": []
    }
  ]
}