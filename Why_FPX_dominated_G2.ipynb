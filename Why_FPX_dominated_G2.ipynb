{
  "nbformat": 4,
  "nbformat_minor": 0,
  "metadata": {
    "colab": {
      "name": "Why FPX dominated G2.ipynb",
      "provenance": [],
      "include_colab_link": true
    },
    "kernelspec": {
      "name": "python3",
      "display_name": "Python 3"
    }
  },
  "cells": [
    {
      "cell_type": "markdown",
      "metadata": {
        "id": "view-in-github",
        "colab_type": "text"
      },
      "source": [
        "<a href=\"https://colab.research.google.com/github/AhmedMorra1/DataSciencePractice/blob/master/Why_FPX_dominated_G2.ipynb\" target=\"_parent\"><img src=\"https://colab.research.google.com/assets/colab-badge.svg\" alt=\"Open In Colab\"/></a>"
      ]
    },
    {
      "cell_type": "markdown",
      "metadata": {
        "id": "qP9ermfLi-RY",
        "colab_type": "text"
      },
      "source": [
        "#**G2 had everything to win Worlds 2019, what happened?**"
      ]
    },
    {
      "cell_type": "markdown",
      "metadata": {
        "id": "caRwSlSqktUG",
        "colab_type": "text"
      },
      "source": [
        "Situation: To start, describe the current state to your audience. What is the status quo you’re trying to change?\n",
        "\n",
        "Problem: Next, picture the problem. What’s the issue with the situation? Wherein lies the pain you’re trying to solve?\n",
        "\n",
        "Solution: Present the solution. How do you solve the problem? How do you cure the pain?\n",
        "\n",
        "Next Steps: You convinced the audience. What are the next steps you need to take? Which actions need to be taken?"
      ]
    },
    {
      "cell_type": "markdown",
      "metadata": {
        "id": "mNrOpRA5ntJp",
        "colab_type": "text"
      },
      "source": [
        "**Situation**\n",
        "Funplus Phoenix dominated G2 Esports in League of Legends Worlds Final, Winning with a clean sweep 3-0, for the second year in a row the LPL team clean sweep the EU team in the finals."
      ]
    },
    {
      "cell_type": "markdown",
      "metadata": {
        "id": "6BuSbs0SjC9N",
        "colab_type": "text"
      },
      "source": [
        "**Problem**  Though LPL is known to be a stronger region than LEC, G2 were the favorites before the start of the tournament, They won every championship they participated in through the whole year, LEC spring split, Mid Season Invitational and LEC summer split.\n",
        "G2 Proved themselves in their region and internationaly, FPX on the other hand only won the LPL summer split, positioned 3rd in spring split.\n",
        "G2 players had international experience while FPX players didn't have any."
      ]
    },
    {
      "cell_type": "markdown",
      "metadata": {
        "id": "aAsp8rY80If-",
        "colab_type": "text"
      },
      "source": [
        "**Solution** In this notebook we will try to gain insight on why Funplus Phoenix as a team and individualy performed better than G2 Esports and won the tournamnet.\n",
        "Since the two teams compete in two different regions we will only compare between them using Worlds Championship data. "
      ]
    },
    {
      "cell_type": "markdown",
      "metadata": {
        "id": "8_C-xVR_3PFn",
        "colab_type": "text"
      },
      "source": [
        "We will start to explore individual performance of each player from both teams and how each rank against their opponent through the tournament, that will give us a hint about the individual power before diving into the team work."
      ]
    },
    {
      "cell_type": "markdown",
      "metadata": {
        "id": "q5S1iUVF5C1J",
        "colab_type": "text"
      },
      "source": [
        "First let's download the data from http://oracleselixir.com"
      ]
    },
    {
      "cell_type": "code",
      "metadata": {
        "id": "-pJfPrPviwpO",
        "colab_type": "code",
        "outputId": "0906e72b-5867-48ee-ec4d-8a3ce48c0063",
        "colab": {
          "base_uri": "https://localhost:8080/",
          "height": 202
        }
      },
      "source": [
        "!wget http://oracleselixir.com/gamedata/2019-worlds/"
      ],
      "execution_count": 1,
      "outputs": [
        {
          "output_type": "stream",
          "text": [
            "--2019-12-16 14:49:32--  http://oracleselixir.com/gamedata/2019-worlds/\n",
            "Resolving oracleselixir.com (oracleselixir.com)... 69.73.182.198\n",
            "Connecting to oracleselixir.com (oracleselixir.com)|69.73.182.198|:80... connected.\n",
            "HTTP request sent, awaiting response... 200 OK\n",
            "Length: 826550 (807K) [application/vnd.openxmlformats-officedocument.spreadsheetml.sheet]\n",
            "Saving to: ‘index.html.2’\n",
            "\n",
            "index.html.2        100%[===================>] 807.18K  2.53MB/s    in 0.3s    \n",
            "\n",
            "2019-12-16 14:49:34 (2.53 MB/s) - ‘index.html.2’ saved [826550/826550]\n",
            "\n"
          ],
          "name": "stdout"
        }
      ]
    },
    {
      "cell_type": "markdown",
      "metadata": {
        "id": "vwNWG9UZ5eXl",
        "colab_type": "text"
      },
      "source": [
        "Now let's import the needed libraries for this analysis"
      ]
    },
    {
      "cell_type": "code",
      "metadata": {
        "id": "mCaQMy4J5UvF",
        "colab_type": "code",
        "colab": {}
      },
      "source": [
        "import pandas as pd\n",
        "import numpy as np\n",
        "import seaborn as sns\n",
        "import matplotlib.pyplot as plt\n",
        "%matplotlib inline\n",
        "pd.set_option('display.max_column',None)\n",
        "pd.set_option('display.max_row',None)"
      ],
      "execution_count": 0,
      "outputs": []
    },
    {
      "cell_type": "markdown",
      "metadata": {
        "id": "omaemU006AG4",
        "colab_type": "text"
      },
      "source": [
        "Let's put our data into data frame to ease our exploration process"
      ]
    },
    {
      "cell_type": "code",
      "metadata": {
        "id": "bHrBnUfL58bp",
        "colab_type": "code",
        "colab": {}
      },
      "source": [
        "df = pd.read_excel('index.html')"
      ],
      "execution_count": 0,
      "outputs": []
    },
    {
      "cell_type": "markdown",
      "metadata": {
        "id": "PVp6HiIH6VC7",
        "colab_type": "text"
      },
      "source": [
        "Since the two teams didn't participate in the play-in stage I will remove the matches from that stage from the dataframe.\n",
        "\n",
        "First let's get the unique values for the column 'week' to see which weeks we are not interested in"
      ]
    },
    {
      "cell_type": "code",
      "metadata": {
        "id": "Ozw0Zick6LY7",
        "colab_type": "code",
        "outputId": "bc8f0b84-64d1-4a57-90b2-20d5f6fa1797",
        "colab": {
          "base_uri": "https://localhost:8080/",
          "height": 34
        }
      },
      "source": [
        "df['week'].unique()"
      ],
      "execution_count": 4,
      "outputs": [
        {
          "output_type": "execute_result",
          "data": {
            "text/plain": [
              "array(['PI-RR', 'PI-KO', 'G', 'QF', 'SF', 'F'], dtype=object)"
            ]
          },
          "metadata": {
            "tags": []
          },
          "execution_count": 4
        }
      ]
    },
    {
      "cell_type": "markdown",
      "metadata": {
        "id": "NVT9WgXW65nT",
        "colab_type": "text"
      },
      "source": [
        "Let's Delete these weeks ['PI-RR','PI-KO','F']\n",
        "\n",
        "I deleted the final to only calculate the road to the finals for both teams"
      ]
    },
    {
      "cell_type": "code",
      "metadata": {
        "id": "5mzM_Yi_6swc",
        "colab_type": "code",
        "colab": {}
      },
      "source": [
        "df = df[df['week'].isin(['G', 'QF', 'SF'])]"
      ],
      "execution_count": 0,
      "outputs": []
    },
    {
      "cell_type": "markdown",
      "metadata": {
        "id": "StGK65t6qei9",
        "colab_type": "text"
      },
      "source": [
        "Let's seperate the teams from the players"
      ]
    },
    {
      "cell_type": "code",
      "metadata": {
        "id": "aJoj-PMv7JIm",
        "colab_type": "code",
        "colab": {}
      },
      "source": [
        "teamnames = ['Funplus Phoenix','G2 Esports']\n",
        "teams = df.loc[(df['player']=='Team') & (df['team'].isin(teamnames))]"
      ],
      "execution_count": 0,
      "outputs": []
    },
    {
      "cell_type": "code",
      "metadata": {
        "id": "d0GLHMHD8EUD",
        "colab_type": "code",
        "colab": {}
      },
      "source": [
        "playernames = ['Wunder','GimGoon','Jankos','Tian','Caps','Doinb','Perkz','Lwx','Mikyx','Crisp']\n",
        "players = df.loc[(df['player']!='Team') & (df['player'].isin(playernames))]"
      ],
      "execution_count": 0,
      "outputs": []
    },
    {
      "cell_type": "markdown",
      "metadata": {
        "id": "A8w5BgoTrUWy",
        "colab_type": "text"
      },
      "source": [
        "Now let's start to explore players data.\n",
        "\n",
        "What we will focus on is \n",
        "\n",
        "1.   KDA (all)\n",
        "2.   Kill per minute \n",
        "3.   Damage to champs per minute \n",
        "4.   Earned gold per minute\n",
        "5.   Wards per minute (support)\n",
        "6.   Cs per minute (top/mid/bot)\n",
        "7.   Monster kills (jungler)\n",
        "\n",
        "\n"
      ]
    },
    {
      "cell_type": "markdown",
      "metadata": {
        "id": "xkA84uUCuuMS",
        "colab_type": "text"
      },
      "source": [
        "Let's start with KDA."
      ]
    },
    {
      "cell_type": "code",
      "metadata": {
        "id": "ENPprOcKq_s_",
        "colab_type": "code",
        "outputId": "18d9091e-738f-4f43-de7a-03b75a68ec86",
        "colab": {
          "base_uri": "https://localhost:8080/",
          "height": 207
        }
      },
      "source": [
        "rules = ['Top','Jungle','Middle','ADC','Support']\n",
        "y = 0\n",
        "fig,ax = plt.subplots(1,5,figsize=(30,2),squeeze=False)\n",
        "for i in rules:\n",
        "    kda = players.loc[players['position']==i].groupby(['player'])['k','d','a'].sum()\n",
        "    kda['kda'] = (kda['k']+kda['a'])/kda['d']\n",
        "    kda = kda.sort_values(['kda'],ascending=False)\n",
        "    sns.barplot(x=kda['kda'],y=kda.index,data=kda,ax=ax[0][y])\n",
        "    ax[0][y].set_title(i)\n",
        "    y += 1\n",
        "plt.show()      "
      ],
      "execution_count": 8,
      "outputs": [
        {
          "output_type": "display_data",
          "data": {
            "image/png": "[encoded data removed]",
            "text/plain": [
              "<Figure size 2160x144 with 5 Axes>"
            ]
          },
          "metadata": {
            "tags": []
          }
        }
      ]
    },
    {
      "cell_type": "markdown",
      "metadata": {
        "id": "g7duO_TVCkqy",
        "colab_type": "text"
      },
      "source": [
        "As we can see FPX Players dominate the KDA stats over G2 Esports players"
      ]
    },
    {
      "cell_type": "markdown",
      "metadata": {
        "id": "caKDHMmw3XVS",
        "colab_type": "text"
      },
      "source": [
        "Now let's see the average kill per minute for each player"
      ]
    },
    {
      "cell_type": "code",
      "metadata": {
        "id": "oWqr-Q0Wyra0",
        "colab_type": "code",
        "outputId": "ba28c444-3483-4ef9-cf9a-27f7577adfb7",
        "colab": {
          "base_uri": "https://localhost:8080/",
          "height": 207
        }
      },
      "source": [
        "d = 0\n",
        "fig,ax = plt.subplots(1,5,figsize=(30,2),squeeze=False)\n",
        "for i in rules:\n",
        "    kpm = players.loc[players['position']==i].groupby(['player'])['kpm'].mean().reset_index()\n",
        "    kpm = kpm.sort_values(['kpm'],ascending=False)\n",
        "    sns.barplot(x=kpm['kpm'],y=kpm['player'],data=kpm,ax=ax[0][d])\n",
        "    ax[0][d].set_title(i)\n",
        "    d += 1  \n",
        "plt.show() "
      ],
      "execution_count": 9,
      "outputs": [
        {
          "output_type": "display_data",
          "data": {
            "image/png": "[encoded data removed]",
            "text/plain": [
              "<Figure size 2160x144 with 5 Axes>"
            ]
          },
          "metadata": {
            "tags": []
          }
        }
      ]
    },
    {
      "cell_type": "markdown",
      "metadata": {
        "id": "iOgmDffJT9UG",
        "colab_type": "text"
      },
      "source": [
        "Again FPX Players dominate the KPM stats over G2 Esports players"
      ]
    },
    {
      "cell_type": "markdown",
      "metadata": {
        "id": "inrVSuUhUNwN",
        "colab_type": "text"
      },
      "source": [
        "Now let's check the Damage Per Minute Stats"
      ]
    },
    {
      "cell_type": "code",
      "metadata": {
        "id": "1y-kLQ6z8BeH",
        "colab_type": "code",
        "outputId": "5f61a9ef-de4f-4342-b28c-744ae4265387",
        "colab": {
          "base_uri": "https://localhost:8080/",
          "height": 207
        }
      },
      "source": [
        "d = 0\n",
        "fig,ax = plt.subplots(1,5,figsize=(30,2),squeeze=False)\n",
        "for i in rules:\n",
        "    dpm = players.loc[players['position']==i].groupby(['player'])['dmgtochampsperminute'].mean().reset_index()\n",
        "    dpm = dpm.sort_values(['dmgtochampsperminute'],ascending=False)\n",
        "    sns.barplot(x=dpm['dmgtochampsperminute'],y=dpm['player'],data=dpm,ax=ax[0][d])\n",
        "    ax[0][d].set_title(i)\n",
        "    d += 1  \n",
        "plt.show() "
      ],
      "execution_count": 11,
      "outputs": [
        {
          "output_type": "display_data",
          "data": {
            "image/png": "[encoded data removed]",
            "text/plain": [
              "<Figure size 2160x144 with 5 Axes>"
            ]
          },
          "metadata": {
            "tags": []
          }
        }
      ]
    },
    {
      "cell_type": "markdown",
      "metadata": {
        "id": "s-fHtmvzUsrn",
        "colab_type": "text"
      },
      "source": [
        "As we can see it's much closer between the players this time but still FPX has the upper hand"
      ]
    },
    {
      "cell_type": "markdown",
      "metadata": {
        "id": "RuTvml7ZVkll",
        "colab_type": "text"
      },
      "source": [
        "Now let's explore Earned Gold per minute"
      ]
    },
    {
      "cell_type": "code",
      "metadata": {
        "id": "Kjfn75ulUjuo",
        "colab_type": "code",
        "outputId": "32b372c2-0027-416c-ddfc-6bc41441486a",
        "colab": {
          "base_uri": "https://localhost:8080/",
          "height": 207
        }
      },
      "source": [
        "d = 0\n",
        "fig,ax = plt.subplots(1,5,figsize=(30,2),squeeze=False)\n",
        "for i in rules:\n",
        "    gpm = players.loc[players['position']==i].groupby(['player'])['dmgtochampsperminute'].mean().reset_index()\n",
        "    gpm = gpm.sort_values(['dmgtochampsperminute'],ascending=False)\n",
        "    sns.barplot(x=gpm['dmgtochampsperminute'],y=gpm['player'],data=gpm,ax=ax[0][d])\n",
        "    ax[0][d].set_title(i)\n",
        "    d += 1  \n",
        "plt.show() "
      ],
      "execution_count": 12,
      "outputs": [
        {
          "output_type": "display_data",
          "data": {
            "image/png": "[encoded data removed]",
            "text/plain": [
              "<Figure size 2160x144 with 5 Axes>"
            ]
          },
          "metadata": {
            "tags": []
          }
        }
      ]
    },
    {
      "cell_type": "markdown",
      "metadata": {
        "id": "ZQYLP_5-V5wE",
        "colab_type": "text"
      },
      "source": [
        "Only Wunder Managed to win this stats the rest is still the same FPX players is better than G2 players"
      ]
    },
    {
      "cell_type": "markdown",
      "metadata": {
        "id": "awSdsGaUWGW2",
        "colab_type": "text"
      },
      "source": [
        "Now for CS per Minute"
      ]
    },
    {
      "cell_type": "code",
      "metadata": {
        "id": "yDfEUvs6V01i",
        "colab_type": "code",
        "outputId": "75d2bb19-3d9d-4784-8612-7006a0ccc0da",
        "colab": {
          "base_uri": "https://localhost:8080/",
          "height": 207
        }
      },
      "source": [
        "d = 0\n",
        "fig,ax = plt.subplots(1,5,figsize=(30,2),squeeze=False)\n",
        "for i in rules:\n",
        "    cpm = players.loc[players['position']==i].groupby(['player'])['cspm'].mean().reset_index()\n",
        "    cpm = cpm.sort_values(['cspm'],ascending=False)\n",
        "    sns.barplot(x=cpm['cspm'],y=cpm['player'],data=cpm,ax=ax[0][d])\n",
        "    ax[0][d].set_title(i)\n",
        "    d += 1  \n",
        "plt.show() "
      ],
      "execution_count": 13,
      "outputs": [
        {
          "output_type": "display_data",
          "data": {
            "image/png": "[encoded data removed]",
            "text/plain": [
              "<Figure size 2160x144 with 5 Axes>"
            ]
          },
          "metadata": {
            "tags": []
          }
        }
      ]
    },
    {
      "cell_type": "markdown",
      "metadata": {
        "id": "MGB-sAdDWnuU",
        "colab_type": "text"
      },
      "source": [
        "Interesting 3 players from G2 has the higher score here Wunder, Caps and Perkz "
      ]
    },
    {
      "cell_type": "markdown",
      "metadata": {
        "id": "zcwEMdBNW2b-",
        "colab_type": "text"
      },
      "source": [
        "Let's check wards and the vision game"
      ]
    },
    {
      "cell_type": "code",
      "metadata": {
        "id": "5GAkXk8BWiBD",
        "colab_type": "code",
        "outputId": "51bae7aa-b45c-42d5-946a-029b8afa3c93",
        "colab": {
          "base_uri": "https://localhost:8080/",
          "height": 207
        }
      },
      "source": [
        "d = 0\n",
        "fig,ax = plt.subplots(1,5,figsize=(30,2),squeeze=False)\n",
        "for i in rules:\n",
        "    wpm = players.loc[players['position']==i].groupby(['player'])['wpm'].mean().reset_index()\n",
        "    wpm = wpm.sort_values(['wpm'],ascending=False)\n",
        "    sns.barplot(x=wpm['wpm'],y=wpm['player'],data=wpm,ax=ax[0][d])\n",
        "    ax[0][d].set_title(i)\n",
        "    d += 1  \n",
        "plt.show() "
      ],
      "execution_count": 14,
      "outputs": [
        {
          "output_type": "display_data",
          "data": {
            "image/png": "[encoded data removed]",
            "text/plain": [
              "<Figure size 2160x144 with 5 Axes>"
            ]
          },
          "metadata": {
            "tags": []
          }
        }
      ]
    },
    {
      "cell_type": "markdown",
      "metadata": {
        "id": "tSARZ5wKmEln",
        "colab_type": "text"
      },
      "source": [
        "So **Individually**  as we saw Funplus Phoenix players was better the G2 Esports players in most of the categories"
      ]
    },
    {
      "cell_type": "markdown",
      "metadata": {
        "id": "xk4QAyx6NYxY",
        "colab_type": "text"
      },
      "source": [
        "Now let's compare the team play"
      ]
    },
    {
      "cell_type": "code",
      "metadata": {
        "id": "JM2HnWcBUis0",
        "colab_type": "code",
        "colab": {
          "base_uri": "https://localhost:8080/",
          "height": 299
        },
        "outputId": "455ad5a2-ec68-4455-dcd6-69c587e994fa"
      },
      "source": [
        "teams.head()"
      ],
      "execution_count": 23,
      "outputs": [
        {
          "output_type": "execute_result",
          "data": {
            "text/html": [
              "<div>\n",
              "<style scoped>\n",
              "    .dataframe tbody tr th:only-of-type {\n",
              "        vertical-align: middle;\n",
              "    }\n",
              "\n",
              "    .dataframe tbody tr th {\n",
              "        vertical-align: top;\n",
              "    }\n",
              "\n",
              "    .dataframe thead th {\n",
              "        text-align: right;\n",
              "    }\n",
              "</style>\n",
              "<table border=\"1\" class=\"dataframe\">\n",
              "  <thead>\n",
              "    <tr style=\"text-align: right;\">\n",
              "      <th></th>\n",
              "      <th>gameid</th>\n",
              "      <th>url</th>\n",
              "      <th>league</th>\n",
              "      <th>split</th>\n",
              "      <th>date</th>\n",
              "      <th>week</th>\n",
              "      <th>game</th>\n",
              "      <th>patchno</th>\n",
              "      <th>playerid</th>\n",
              "      <th>side</th>\n",
              "      <th>position</th>\n",
              "      <th>player</th>\n",
              "      <th>team</th>\n",
              "      <th>champion</th>\n",
              "      <th>ban1</th>\n",
              "      <th>ban2</th>\n",
              "      <th>ban3</th>\n",
              "      <th>ban4</th>\n",
              "      <th>ban5</th>\n",
              "      <th>gamelength</th>\n",
              "      <th>result</th>\n",
              "      <th>k</th>\n",
              "      <th>d</th>\n",
              "      <th>a</th>\n",
              "      <th>teamkills</th>\n",
              "      <th>teamdeaths</th>\n",
              "      <th>doubles</th>\n",
              "      <th>triples</th>\n",
              "      <th>quadras</th>\n",
              "      <th>pentas</th>\n",
              "      <th>fb</th>\n",
              "      <th>fbassist</th>\n",
              "      <th>fbvictim</th>\n",
              "      <th>fbtime</th>\n",
              "      <th>kpm</th>\n",
              "      <th>okpm</th>\n",
              "      <th>ckpm</th>\n",
              "      <th>fd</th>\n",
              "      <th>fdtime</th>\n",
              "      <th>teamdragkills</th>\n",
              "      <th>oppdragkills</th>\n",
              "      <th>elementals</th>\n",
              "      <th>oppelementals</th>\n",
              "      <th>firedrakes</th>\n",
              "      <th>waterdrakes</th>\n",
              "      <th>earthdrakes</th>\n",
              "      <th>airdrakes</th>\n",
              "      <th>elders</th>\n",
              "      <th>oppelders</th>\n",
              "      <th>herald</th>\n",
              "      <th>heraldtime</th>\n",
              "      <th>ft</th>\n",
              "      <th>fttime</th>\n",
              "      <th>firstmidouter</th>\n",
              "      <th>firsttothreetowers</th>\n",
              "      <th>teamtowerkills</th>\n",
              "      <th>opptowerkills</th>\n",
              "      <th>fbaron</th>\n",
              "      <th>fbarontime</th>\n",
              "      <th>teambaronkills</th>\n",
              "      <th>oppbaronkills</th>\n",
              "      <th>dmgtochamps</th>\n",
              "      <th>dmgtochampsperminute</th>\n",
              "      <th>dmgshare</th>\n",
              "      <th>earnedgoldshare</th>\n",
              "      <th>wards</th>\n",
              "      <th>wpm</th>\n",
              "      <th>wardshare</th>\n",
              "      <th>wardkills</th>\n",
              "      <th>wcpm</th>\n",
              "      <th>visionwards</th>\n",
              "      <th>visionwardbuys</th>\n",
              "      <th>visiblewardclearrate</th>\n",
              "      <th>invisiblewardclearrate</th>\n",
              "      <th>totalgold</th>\n",
              "      <th>earnedgpm</th>\n",
              "      <th>goldspent</th>\n",
              "      <th>gspd</th>\n",
              "      <th>minionkills</th>\n",
              "      <th>monsterkills</th>\n",
              "      <th>monsterkillsownjungle</th>\n",
              "      <th>monsterkillsenemyjungle</th>\n",
              "      <th>cspm</th>\n",
              "      <th>goldat10</th>\n",
              "      <th>oppgoldat10</th>\n",
              "      <th>gdat10</th>\n",
              "      <th>goldat15</th>\n",
              "      <th>oppgoldat15</th>\n",
              "      <th>gdat15</th>\n",
              "      <th>xpat10</th>\n",
              "      <th>oppxpat10</th>\n",
              "      <th>xpdat10</th>\n",
              "      <th>csat10</th>\n",
              "      <th>oppcsat10</th>\n",
              "      <th>csdat10</th>\n",
              "      <th>csat15</th>\n",
              "      <th>oppcsat15</th>\n",
              "      <th>csdat15</th>\n",
              "    </tr>\n",
              "  </thead>\n",
              "  <tbody>\n",
              "    <tr>\n",
              "      <th>563</th>\n",
              "      <td>1061043</td>\n",
              "      <td>http://matchhistory.na.leagueoflegends.com/en/...</td>\n",
              "      <td>WC</td>\n",
              "      <td>2019-W</td>\n",
              "      <td>43750.462720</td>\n",
              "      <td>G</td>\n",
              "      <td>1</td>\n",
              "      <td>9.19</td>\n",
              "      <td>200</td>\n",
              "      <td>Red</td>\n",
              "      <td>Team</td>\n",
              "      <td>Team</td>\n",
              "      <td>Funplus Phoenix</td>\n",
              "      <td></td>\n",
              "      <td>Pantheon</td>\n",
              "      <td>Syndra</td>\n",
              "      <td>Renekton</td>\n",
              "      <td>Tristana</td>\n",
              "      <td>Aatrox</td>\n",
              "      <td>36.650000</td>\n",
              "      <td>0</td>\n",
              "      <td>11</td>\n",
              "      <td>18</td>\n",
              "      <td>25</td>\n",
              "      <td>11</td>\n",
              "      <td>18</td>\n",
              "      <td></td>\n",
              "      <td></td>\n",
              "      <td></td>\n",
              "      <td></td>\n",
              "      <td>1</td>\n",
              "      <td>1</td>\n",
              "      <td>0</td>\n",
              "      <td>5.031317</td>\n",
              "      <td>0.300136</td>\n",
              "      <td>0.491132</td>\n",
              "      <td>0.791269</td>\n",
              "      <td>1</td>\n",
              "      <td>8.911983</td>\n",
              "      <td>4</td>\n",
              "      <td>1</td>\n",
              "      <td>4</td>\n",
              "      <td>1</td>\n",
              "      <td>3</td>\n",
              "      <td>0</td>\n",
              "      <td>0</td>\n",
              "      <td>1</td>\n",
              "      <td>0</td>\n",
              "      <td>0</td>\n",
              "      <td>0</td>\n",
              "      <td>11.671533</td>\n",
              "      <td>1</td>\n",
              "      <td>16.041450</td>\n",
              "      <td>0</td>\n",
              "      <td>0</td>\n",
              "      <td>2</td>\n",
              "      <td>9</td>\n",
              "      <td>0.0</td>\n",
              "      <td>26.176567</td>\n",
              "      <td>0</td>\n",
              "      <td>2</td>\n",
              "      <td>60600</td>\n",
              "      <td>1653.478854</td>\n",
              "      <td></td>\n",
              "      <td></td>\n",
              "      <td>145</td>\n",
              "      <td>3.956344</td>\n",
              "      <td>1.0</td>\n",
              "      <td>72</td>\n",
              "      <td>1.964529</td>\n",
              "      <td>56</td>\n",
              "      <td>59</td>\n",
              "      <td>0.575758</td>\n",
              "      <td>0.291667</td>\n",
              "      <td>61252</td>\n",
              "      <td>1021.669850</td>\n",
              "      <td>61395</td>\n",
              "      <td>-0.058042</td>\n",
              "      <td>1001</td>\n",
              "      <td>212</td>\n",
              "      <td>141</td>\n",
              "      <td>8</td>\n",
              "      <td>33.096862</td>\n",
              "      <td>14909</td>\n",
              "      <td>14587</td>\n",
              "      <td>322</td>\n",
              "      <td>23775</td>\n",
              "      <td>23288</td>\n",
              "      <td>487</td>\n",
              "      <td>17924</td>\n",
              "      <td>17831</td>\n",
              "      <td>93</td>\n",
              "      <td>317</td>\n",
              "      <td>322</td>\n",
              "      <td>-5</td>\n",
              "      <td>522</td>\n",
              "      <td>521</td>\n",
              "      <td>1</td>\n",
              "    </tr>\n",
              "    <tr>\n",
              "      <th>635</th>\n",
              "      <td>1071286</td>\n",
              "      <td>http://matchhistory.na.leagueoflegends.com/en/...</td>\n",
              "      <td>WC</td>\n",
              "      <td>2019-W</td>\n",
              "      <td>43751.451204</td>\n",
              "      <td>G</td>\n",
              "      <td>2</td>\n",
              "      <td>9.19</td>\n",
              "      <td>200</td>\n",
              "      <td>Red</td>\n",
              "      <td>Team</td>\n",
              "      <td>Team</td>\n",
              "      <td>G2 Esports</td>\n",
              "      <td></td>\n",
              "      <td>Pantheon</td>\n",
              "      <td>Qiyana</td>\n",
              "      <td>Kayle</td>\n",
              "      <td>Xayah</td>\n",
              "      <td>Ezreal</td>\n",
              "      <td>29.800000</td>\n",
              "      <td>1</td>\n",
              "      <td>16</td>\n",
              "      <td>7</td>\n",
              "      <td>28</td>\n",
              "      <td>16</td>\n",
              "      <td>7</td>\n",
              "      <td></td>\n",
              "      <td></td>\n",
              "      <td></td>\n",
              "      <td></td>\n",
              "      <td>1</td>\n",
              "      <td>1</td>\n",
              "      <td>0</td>\n",
              "      <td>4.939917</td>\n",
              "      <td>0.536913</td>\n",
              "      <td>0.234899</td>\n",
              "      <td>0.771812</td>\n",
              "      <td>1</td>\n",
              "      <td>8.543183</td>\n",
              "      <td>3</td>\n",
              "      <td>1</td>\n",
              "      <td>3</td>\n",
              "      <td>1</td>\n",
              "      <td>0</td>\n",
              "      <td>0</td>\n",
              "      <td>2</td>\n",
              "      <td>1</td>\n",
              "      <td>0</td>\n",
              "      <td>0</td>\n",
              "      <td>0</td>\n",
              "      <td>10.874800</td>\n",
              "      <td>1</td>\n",
              "      <td>10.932700</td>\n",
              "      <td>1</td>\n",
              "      <td>1</td>\n",
              "      <td>11</td>\n",
              "      <td>2</td>\n",
              "      <td>1.0</td>\n",
              "      <td>23.908700</td>\n",
              "      <td>1</td>\n",
              "      <td>0</td>\n",
              "      <td>55461</td>\n",
              "      <td>1861.107383</td>\n",
              "      <td></td>\n",
              "      <td></td>\n",
              "      <td>127</td>\n",
              "      <td>4.261745</td>\n",
              "      <td>1.0</td>\n",
              "      <td>56</td>\n",
              "      <td>1.879195</td>\n",
              "      <td>40</td>\n",
              "      <td>42</td>\n",
              "      <td>0.674419</td>\n",
              "      <td>0.372881</td>\n",
              "      <td>59691</td>\n",
              "      <td>1344.812081</td>\n",
              "      <td>53200</td>\n",
              "      <td>0.066762</td>\n",
              "      <td>826</td>\n",
              "      <td>212</td>\n",
              "      <td>108</td>\n",
              "      <td>44</td>\n",
              "      <td>34.832215</td>\n",
              "      <td>15953</td>\n",
              "      <td>15244</td>\n",
              "      <td>709</td>\n",
              "      <td>25443</td>\n",
              "      <td>24629</td>\n",
              "      <td>814</td>\n",
              "      <td>18333</td>\n",
              "      <td>17970</td>\n",
              "      <td>363</td>\n",
              "      <td>313</td>\n",
              "      <td>319</td>\n",
              "      <td>-6</td>\n",
              "      <td>511</td>\n",
              "      <td>539</td>\n",
              "      <td>-28</td>\n",
              "    </tr>\n",
              "    <tr>\n",
              "      <th>682</th>\n",
              "      <td>1061156</td>\n",
              "      <td>http://matchhistory.na.leagueoflegends.com/en/...</td>\n",
              "      <td>WC</td>\n",
              "      <td>2019-W</td>\n",
              "      <td>43752.415694</td>\n",
              "      <td>G</td>\n",
              "      <td>3</td>\n",
              "      <td>9.19</td>\n",
              "      <td>100</td>\n",
              "      <td>Blue</td>\n",
              "      <td>Team</td>\n",
              "      <td>Team</td>\n",
              "      <td>Funplus Phoenix</td>\n",
              "      <td></td>\n",
              "      <td>Syndra</td>\n",
              "      <td>Xayah</td>\n",
              "      <td>Nautilus</td>\n",
              "      <td>Jhin</td>\n",
              "      <td>Ezreal</td>\n",
              "      <td>34.883333</td>\n",
              "      <td>1</td>\n",
              "      <td>18</td>\n",
              "      <td>11</td>\n",
              "      <td>32</td>\n",
              "      <td>18</td>\n",
              "      <td>11</td>\n",
              "      <td></td>\n",
              "      <td></td>\n",
              "      <td></td>\n",
              "      <td></td>\n",
              "      <td>1</td>\n",
              "      <td>0</td>\n",
              "      <td>0</td>\n",
              "      <td>3.004133</td>\n",
              "      <td>0.516006</td>\n",
              "      <td>0.315337</td>\n",
              "      <td>0.831343</td>\n",
              "      <td>0</td>\n",
              "      <td>8.540850</td>\n",
              "      <td>2</td>\n",
              "      <td>3</td>\n",
              "      <td>2</td>\n",
              "      <td>3</td>\n",
              "      <td>0</td>\n",
              "      <td>0</td>\n",
              "      <td>1</td>\n",
              "      <td>1</td>\n",
              "      <td>0</td>\n",
              "      <td>0</td>\n",
              "      <td>0</td>\n",
              "      <td>10.968967</td>\n",
              "      <td>0</td>\n",
              "      <td>9.293050</td>\n",
              "      <td>0</td>\n",
              "      <td>0</td>\n",
              "      <td>9</td>\n",
              "      <td>4</td>\n",
              "      <td>1.0</td>\n",
              "      <td>27.811300</td>\n",
              "      <td>1</td>\n",
              "      <td>0</td>\n",
              "      <td>50635</td>\n",
              "      <td>1451.552795</td>\n",
              "      <td></td>\n",
              "      <td></td>\n",
              "      <td>156</td>\n",
              "      <td>4.472050</td>\n",
              "      <td>1.0</td>\n",
              "      <td>63</td>\n",
              "      <td>1.806020</td>\n",
              "      <td>48</td>\n",
              "      <td>50</td>\n",
              "      <td>0.574468</td>\n",
              "      <td>0.3125</td>\n",
              "      <td>68914</td>\n",
              "      <td>1324.053512</td>\n",
              "      <td>62375</td>\n",
              "      <td>0.082064</td>\n",
              "      <td>913</td>\n",
              "      <td>289</td>\n",
              "      <td>165</td>\n",
              "      <td>66</td>\n",
              "      <td>34.457716</td>\n",
              "      <td>16183</td>\n",
              "      <td>17714</td>\n",
              "      <td>-1531</td>\n",
              "      <td>25950</td>\n",
              "      <td>26661</td>\n",
              "      <td>-711</td>\n",
              "      <td>17104</td>\n",
              "      <td>17675</td>\n",
              "      <td>-571</td>\n",
              "      <td>284</td>\n",
              "      <td>271</td>\n",
              "      <td>13</td>\n",
              "      <td>489</td>\n",
              "      <td>460</td>\n",
              "      <td>29</td>\n",
              "    </tr>\n",
              "    <tr>\n",
              "      <th>718</th>\n",
              "      <td>1061189</td>\n",
              "      <td>http://matchhistory.na.leagueoflegends.com/en/...</td>\n",
              "      <td>WC</td>\n",
              "      <td>2019-W</td>\n",
              "      <td>43752.543368</td>\n",
              "      <td>G</td>\n",
              "      <td>3</td>\n",
              "      <td>9.19</td>\n",
              "      <td>100</td>\n",
              "      <td>Blue</td>\n",
              "      <td>Team</td>\n",
              "      <td>Team</td>\n",
              "      <td>G2 Esports</td>\n",
              "      <td></td>\n",
              "      <td>Renekton</td>\n",
              "      <td>Yuumi</td>\n",
              "      <td>Heimerdinger</td>\n",
              "      <td>Veigar</td>\n",
              "      <td>Kled</td>\n",
              "      <td>24.616667</td>\n",
              "      <td>1</td>\n",
              "      <td>26</td>\n",
              "      <td>13</td>\n",
              "      <td>54</td>\n",
              "      <td>26</td>\n",
              "      <td>13</td>\n",
              "      <td></td>\n",
              "      <td></td>\n",
              "      <td></td>\n",
              "      <td></td>\n",
              "      <td>1</td>\n",
              "      <td>1</td>\n",
              "      <td>0</td>\n",
              "      <td>4.892917</td>\n",
              "      <td>1.056195</td>\n",
              "      <td>0.528097</td>\n",
              "      <td>1.584292</td>\n",
              "      <td>1</td>\n",
              "      <td>15.833467</td>\n",
              "      <td>2</td>\n",
              "      <td>0</td>\n",
              "      <td>2</td>\n",
              "      <td>0</td>\n",
              "      <td>0</td>\n",
              "      <td>0</td>\n",
              "      <td>2</td>\n",
              "      <td>0</td>\n",
              "      <td>0</td>\n",
              "      <td>0</td>\n",
              "      <td>0</td>\n",
              "      <td>13.500200</td>\n",
              "      <td>1</td>\n",
              "      <td>13.995433</td>\n",
              "      <td>0</td>\n",
              "      <td>1</td>\n",
              "      <td>10</td>\n",
              "      <td>2</td>\n",
              "      <td>1.0</td>\n",
              "      <td>22.464850</td>\n",
              "      <td>1</td>\n",
              "      <td>0</td>\n",
              "      <td>68464</td>\n",
              "      <td>2781.205146</td>\n",
              "      <td></td>\n",
              "      <td></td>\n",
              "      <td>86</td>\n",
              "      <td>3.493568</td>\n",
              "      <td>1.0</td>\n",
              "      <td>34</td>\n",
              "      <td>1.381178</td>\n",
              "      <td>30</td>\n",
              "      <td>31</td>\n",
              "      <td>0.652174</td>\n",
              "      <td>0.325581</td>\n",
              "      <td>53607</td>\n",
              "      <td>1509.692620</td>\n",
              "      <td>47050</td>\n",
              "      <td>0.215160</td>\n",
              "      <td>566</td>\n",
              "      <td>141</td>\n",
              "      <td>93</td>\n",
              "      <td>12</td>\n",
              "      <td>28.720379</td>\n",
              "      <td>16071</td>\n",
              "      <td>15847</td>\n",
              "      <td>224</td>\n",
              "      <td>27391</td>\n",
              "      <td>25305</td>\n",
              "      <td>2086</td>\n",
              "      <td>17887</td>\n",
              "      <td>18999</td>\n",
              "      <td>-1112</td>\n",
              "      <td>277</td>\n",
              "      <td>273</td>\n",
              "      <td>4</td>\n",
              "      <td>447</td>\n",
              "      <td>411</td>\n",
              "      <td>36</td>\n",
              "    </tr>\n",
              "    <tr>\n",
              "      <th>779</th>\n",
              "      <td>1071415</td>\n",
              "      <td>https://matchhistory.na.leagueoflegends.com/en...</td>\n",
              "      <td>WC</td>\n",
              "      <td>2019-W</td>\n",
              "      <td>43753.535544</td>\n",
              "      <td>G</td>\n",
              "      <td>4</td>\n",
              "      <td>9.19</td>\n",
              "      <td>200</td>\n",
              "      <td>Red</td>\n",
              "      <td>Team</td>\n",
              "      <td>Team</td>\n",
              "      <td>G2 Esports</td>\n",
              "      <td></td>\n",
              "      <td>Pantheon</td>\n",
              "      <td>Qiyana</td>\n",
              "      <td>Kayle</td>\n",
              "      <td>Twisted Fate</td>\n",
              "      <td>Renekton</td>\n",
              "      <td>30.616667</td>\n",
              "      <td>1</td>\n",
              "      <td>14</td>\n",
              "      <td>10</td>\n",
              "      <td>26</td>\n",
              "      <td>14</td>\n",
              "      <td>10</td>\n",
              "      <td></td>\n",
              "      <td></td>\n",
              "      <td></td>\n",
              "      <td></td>\n",
              "      <td>1</td>\n",
              "      <td>1</td>\n",
              "      <td>0</td>\n",
              "      <td>3.111233</td>\n",
              "      <td>0.457267</td>\n",
              "      <td>0.326619</td>\n",
              "      <td>0.783887</td>\n",
              "      <td>1</td>\n",
              "      <td>10.919450</td>\n",
              "      <td>3</td>\n",
              "      <td>1</td>\n",
              "      <td>3</td>\n",
              "      <td>1</td>\n",
              "      <td>1</td>\n",
              "      <td>1</td>\n",
              "      <td>1</td>\n",
              "      <td>0</td>\n",
              "      <td>0</td>\n",
              "      <td>0</td>\n",
              "      <td>0</td>\n",
              "      <td>12.211533</td>\n",
              "      <td>1</td>\n",
              "      <td>13.799750</td>\n",
              "      <td>1</td>\n",
              "      <td>1</td>\n",
              "      <td>11</td>\n",
              "      <td>4</td>\n",
              "      <td>1.0</td>\n",
              "      <td>26.766933</td>\n",
              "      <td>1</td>\n",
              "      <td>0</td>\n",
              "      <td>47907</td>\n",
              "      <td>1564.735983</td>\n",
              "      <td></td>\n",
              "      <td></td>\n",
              "      <td>98</td>\n",
              "      <td>3.200871</td>\n",
              "      <td>1.0</td>\n",
              "      <td>54</td>\n",
              "      <td>1.763745</td>\n",
              "      <td>36</td>\n",
              "      <td>36</td>\n",
              "      <td>0.666667</td>\n",
              "      <td>0.15873</td>\n",
              "      <td>60710</td>\n",
              "      <td>1325.898748</td>\n",
              "      <td>50060</td>\n",
              "      <td>0.020524</td>\n",
              "      <td>869</td>\n",
              "      <td>203</td>\n",
              "      <td>122</td>\n",
              "      <td>28</td>\n",
              "      <td>35.013609</td>\n",
              "      <td>16590</td>\n",
              "      <td>15936</td>\n",
              "      <td>654</td>\n",
              "      <td>25813</td>\n",
              "      <td>24041</td>\n",
              "      <td>1772</td>\n",
              "      <td>18233</td>\n",
              "      <td>18406</td>\n",
              "      <td>-173</td>\n",
              "      <td>320</td>\n",
              "      <td>286</td>\n",
              "      <td>34</td>\n",
              "      <td>527</td>\n",
              "      <td>464</td>\n",
              "      <td>63</td>\n",
              "    </tr>\n",
              "  </tbody>\n",
              "</table>\n",
              "</div>"
            ],
            "text/plain": [
              "      gameid                                                url league  \\\n",
              "563  1061043  http://matchhistory.na.leagueoflegends.com/en/...     WC   \n",
              "635  1071286  http://matchhistory.na.leagueoflegends.com/en/...     WC   \n",
              "682  1061156  http://matchhistory.na.leagueoflegends.com/en/...     WC   \n",
              "718  1061189  http://matchhistory.na.leagueoflegends.com/en/...     WC   \n",
              "779  1071415  https://matchhistory.na.leagueoflegends.com/en...     WC   \n",
              "\n",
              "      split          date week game  patchno  playerid  side position player  \\\n",
              "563  2019-W  43750.462720    G    1     9.19       200   Red     Team   Team   \n",
              "635  2019-W  43751.451204    G    2     9.19       200   Red     Team   Team   \n",
              "682  2019-W  43752.415694    G    3     9.19       100  Blue     Team   Team   \n",
              "718  2019-W  43752.543368    G    3     9.19       100  Blue     Team   Team   \n",
              "779  2019-W  43753.535544    G    4     9.19       200   Red     Team   Team   \n",
              "\n",
              "                team champion      ban1    ban2          ban3          ban4  \\\n",
              "563  Funplus Phoenix           Pantheon  Syndra      Renekton      Tristana   \n",
              "635       G2 Esports           Pantheon  Qiyana         Kayle         Xayah   \n",
              "682  Funplus Phoenix             Syndra   Xayah      Nautilus          Jhin   \n",
              "718       G2 Esports           Renekton   Yuumi  Heimerdinger        Veigar   \n",
              "779       G2 Esports           Pantheon  Qiyana         Kayle  Twisted Fate   \n",
              "\n",
              "         ban5  gamelength  result   k   d   a  teamkills  teamdeaths doubles  \\\n",
              "563    Aatrox   36.650000       0  11  18  25         11          18           \n",
              "635    Ezreal   29.800000       1  16   7  28         16           7           \n",
              "682    Ezreal   34.883333       1  18  11  32         18          11           \n",
              "718      Kled   24.616667       1  26  13  54         26          13           \n",
              "779  Renekton   30.616667       1  14  10  26         14          10           \n",
              "\n",
              "    triples quadras pentas  fb  fbassist  fbvictim    fbtime       kpm  \\\n",
              "563                          1         1         0  5.031317  0.300136   \n",
              "635                          1         1         0  4.939917  0.536913   \n",
              "682                          1         0         0  3.004133  0.516006   \n",
              "718                          1         1         0  4.892917  1.056195   \n",
              "779                          1         1         0  3.111233  0.457267   \n",
              "\n",
              "         okpm      ckpm  fd     fdtime  teamdragkills  oppdragkills  \\\n",
              "563  0.491132  0.791269   1   8.911983              4             1   \n",
              "635  0.234899  0.771812   1   8.543183              3             1   \n",
              "682  0.315337  0.831343   0   8.540850              2             3   \n",
              "718  0.528097  1.584292   1  15.833467              2             0   \n",
              "779  0.326619  0.783887   1  10.919450              3             1   \n",
              "\n",
              "     elementals  oppelementals  firedrakes  waterdrakes  earthdrakes  \\\n",
              "563           4              1           3            0            0   \n",
              "635           3              1           0            0            2   \n",
              "682           2              3           0            0            1   \n",
              "718           2              0           0            0            2   \n",
              "779           3              1           1            1            1   \n",
              "\n",
              "     airdrakes  elders  oppelders  herald  heraldtime  ft     fttime  \\\n",
              "563          1       0          0       0   11.671533   1  16.041450   \n",
              "635          1       0          0       0   10.874800   1  10.932700   \n",
              "682          1       0          0       0   10.968967   0   9.293050   \n",
              "718          0       0          0       0   13.500200   1  13.995433   \n",
              "779          0       0          0       0   12.211533   1  13.799750   \n",
              "\n",
              "     firstmidouter  firsttothreetowers  teamtowerkills  opptowerkills  fbaron  \\\n",
              "563              0                   0               2              9     0.0   \n",
              "635              1                   1              11              2     1.0   \n",
              "682              0                   0               9              4     1.0   \n",
              "718              0                   1              10              2     1.0   \n",
              "779              1                   1              11              4     1.0   \n",
              "\n",
              "     fbarontime  teambaronkills  oppbaronkills  dmgtochamps  \\\n",
              "563   26.176567               0              2        60600   \n",
              "635   23.908700               1              0        55461   \n",
              "682   27.811300               1              0        50635   \n",
              "718   22.464850               1              0        68464   \n",
              "779   26.766933               1              0        47907   \n",
              "\n",
              "     dmgtochampsperminute dmgshare earnedgoldshare  wards       wpm  \\\n",
              "563           1653.478854                             145  3.956344   \n",
              "635           1861.107383                             127  4.261745   \n",
              "682           1451.552795                             156  4.472050   \n",
              "718           2781.205146                              86  3.493568   \n",
              "779           1564.735983                              98  3.200871   \n",
              "\n",
              "     wardshare  wardkills      wcpm  visionwards  visionwardbuys  \\\n",
              "563        1.0         72  1.964529           56              59   \n",
              "635        1.0         56  1.879195           40              42   \n",
              "682        1.0         63  1.806020           48              50   \n",
              "718        1.0         34  1.381178           30              31   \n",
              "779        1.0         54  1.763745           36              36   \n",
              "\n",
              "    visiblewardclearrate invisiblewardclearrate  totalgold    earnedgpm  \\\n",
              "563             0.575758               0.291667      61252  1021.669850   \n",
              "635             0.674419               0.372881      59691  1344.812081   \n",
              "682             0.574468                 0.3125      68914  1324.053512   \n",
              "718             0.652174               0.325581      53607  1509.692620   \n",
              "779             0.666667                0.15873      60710  1325.898748   \n",
              "\n",
              "     goldspent      gspd  minionkills  monsterkills  monsterkillsownjungle  \\\n",
              "563      61395 -0.058042         1001           212                    141   \n",
              "635      53200  0.066762          826           212                    108   \n",
              "682      62375  0.082064          913           289                    165   \n",
              "718      47050  0.215160          566           141                     93   \n",
              "779      50060  0.020524          869           203                    122   \n",
              "\n",
              "     monsterkillsenemyjungle       cspm  goldat10  oppgoldat10  gdat10  \\\n",
              "563                        8  33.096862     14909        14587     322   \n",
              "635                       44  34.832215     15953        15244     709   \n",
              "682                       66  34.457716     16183        17714   -1531   \n",
              "718                       12  28.720379     16071        15847     224   \n",
              "779                       28  35.013609     16590        15936     654   \n",
              "\n",
              "     goldat15  oppgoldat15  gdat15  xpat10  oppxpat10  xpdat10  csat10  \\\n",
              "563     23775        23288     487   17924      17831       93     317   \n",
              "635     25443        24629     814   18333      17970      363     313   \n",
              "682     25950        26661    -711   17104      17675     -571     284   \n",
              "718     27391        25305    2086   17887      18999    -1112     277   \n",
              "779     25813        24041    1772   18233      18406     -173     320   \n",
              "\n",
              "     oppcsat10  csdat10  csat15  oppcsat15  csdat15  \n",
              "563        322       -5     522        521        1  \n",
              "635        319       -6     511        539      -28  \n",
              "682        271       13     489        460       29  \n",
              "718        273        4     447        411       36  \n",
              "779        286       34     527        464       63  "
            ]
          },
          "metadata": {
            "tags": []
          },
          "execution_count": 23
        }
      ]
    },
    {
      "cell_type": "markdown",
      "metadata": {
        "id": "YZZl5avMUXZK",
        "colab_type": "text"
      },
      "source": [
        "First with KDA"
      ]
    },
    {
      "cell_type": "code",
      "metadata": {
        "id": "Z6j3DcxATjd2",
        "colab_type": "code",
        "colab": {
          "base_uri": "https://localhost:8080/",
          "height": 279
        },
        "outputId": "05f733eb-a108-4d25-d9e5-fd968ce42365"
      },
      "source": [
        "kda = teams.groupby(['team'])['k','d','a'].sum()\n",
        "kda['kda'] = (kda['k']+kda['a'])/kda['d']\n",
        "kda = kda.sort_values(['kda'],ascending=False)\n",
        "sns.barplot(x=kda['kda'],y=kda.index,data=kda)\n",
        "plt.show()      "
      ],
      "execution_count": 22,
      "outputs": [
        {
          "output_type": "display_data",
          "data": {
            "image/png": "[encoded data removed]",
            "text/plain": [
              "<Figure size 432x288 with 1 Axes>"
            ]
          },
          "metadata": {
            "tags": []
          }
        }
      ]
    },
    {
      "cell_type": "markdown",
      "metadata": {
        "id": "RU43EdZjUaxd",
        "colab_type": "text"
      },
      "source": [
        "No surprise here, Funplus Phoenix has the upper hand "
      ]
    },
    {
      "cell_type": "markdown",
      "metadata": {
        "id": "mj8uerSEUgJz",
        "colab_type": "text"
      },
      "source": [
        "Now let's try Kill Per Minute"
      ]
    },
    {
      "cell_type": "code",
      "metadata": {
        "id": "PNiYLDBEUPkP",
        "colab_type": "code",
        "colab": {
          "base_uri": "https://localhost:8080/",
          "height": 279
        },
        "outputId": "cd1c4758-db3e-45d1-8db9-775974c2295c"
      },
      "source": [
        "kpm = teams.groupby(['team'])['kpm'].mean().reset_index()\n",
        "kpm.head()\n",
        "sns.barplot(x=kpm['kpm'],y=kpm['team'],data=kpm)\n",
        "plt.show()      "
      ],
      "execution_count": 32,
      "outputs": [
        {
          "output_type": "display_data",
          "data": {
            "image/png": "[encoded data removed]",
            "text/plain": [
              "<Figure size 432x288 with 1 Axes>"
            ]
          },
          "metadata": {
            "tags": []
          }
        }
      ]
    },
    {
      "cell_type": "markdown",
      "metadata": {
        "id": "ADwS1FxfVlto",
        "colab_type": "text"
      },
      "source": [
        "I am getting bored here"
      ]
    },
    {
      "cell_type": "markdown",
      "metadata": {
        "id": "ScS4Md2sVtEX",
        "colab_type": "text"
      },
      "source": [
        "Let's try damag to champs per minute"
      ]
    },
    {
      "cell_type": "code",
      "metadata": {
        "id": "CJYelCXIVDEl",
        "colab_type": "code",
        "colab": {
          "base_uri": "https://localhost:8080/",
          "height": 279
        },
        "outputId": "78b7c55b-5051-4c6e-eb34-7f141665956c"
      },
      "source": [
        "dpm = teams.groupby(['team'])['dmgtochampsperminute'].mean().reset_index()\n",
        "dpm.head()\n",
        "sns.barplot(x=dpm['dmgtochampsperminute'],y=dpm['team'],data=dpm)\n",
        "plt.show()      "
      ],
      "execution_count": 33,
      "outputs": [
        {
          "output_type": "display_data",
          "data": {
            "image/png": "[encoded data removed]",
            "text/plain": [
              "<Figure size 432x288 with 1 Axes>"
            ]
          },
          "metadata": {
            "tags": []
          }
        }
      ]
    },
    {
      "cell_type": "markdown",
      "metadata": {
        "id": "vAKgiwcwWP-t",
        "colab_type": "text"
      },
      "source": [
        "Now let's try Wards per minute metric"
      ]
    },
    {
      "cell_type": "code",
      "metadata": {
        "id": "lYs4UF7jWJ-X",
        "colab_type": "code",
        "colab": {
          "base_uri": "https://localhost:8080/",
          "height": 279
        },
        "outputId": "8e4d59ff-ed9f-44b9-a31c-8bae5256c700"
      },
      "source": [
        "wpm = teams.groupby(['team'])['wpm'].mean().reset_index()\n",
        "wpm.head()\n",
        "sns.barplot(x=wpm['wpm'],y=wpm['team'],data=wpm)\n",
        "plt.show()      "
      ],
      "execution_count": 34,
      "outputs": [
        {
          "output_type": "display_data",
          "data": {
            "image/png": "[encoded data removed]",
            "text/plain": [
              "<Figure size 432x288 with 1 Axes>"
            ]
          },
          "metadata": {
            "tags": []
          }
        }
      ]
    },
    {
      "cell_type": "markdown",
      "metadata": {
        "id": "UGv77AbzWboK",
        "colab_type": "text"
      },
      "source": [
        "G2 Esports has slightly better vision game than FPX"
      ]
    },
    {
      "cell_type": "markdown",
      "metadata": {
        "id": "rxR-H5mqWshE",
        "colab_type": "text"
      },
      "source": [
        "Now for CS Per Minute"
      ]
    },
    {
      "cell_type": "code",
      "metadata": {
        "id": "MhgiZqXWWZ0A",
        "colab_type": "code",
        "colab": {
          "base_uri": "https://localhost:8080/",
          "height": 279
        },
        "outputId": "d26bbe57-b68d-4d52-b818-4c7970ecae38"
      },
      "source": [
        "cspm = teams.groupby(['team'])['cspm'].mean().reset_index()\n",
        "wpm.head()\n",
        "sns.barplot(x=cspm['cspm'],y=cspm['team'],data=cspm)\n",
        "plt.show()     "
      ],
      "execution_count": 35,
      "outputs": [
        {
          "output_type": "display_data",
          "data": {
            "image/png": "[encoded data removed]",
            "text/plain": [
              "<Figure size 432x288 with 1 Axes>"
            ]
          },
          "metadata": {
            "tags": []
          }
        }
      ]
    },
    {
      "cell_type": "markdown",
      "metadata": {
        "id": "YLCsFmylXzZF",
        "colab_type": "text"
      },
      "source": [
        "Now after all these stats we see that Funplus Phoenix was a better team and even individualy than G2 esports and the deserved to win the World Championship"
      ]
    },
    {
      "cell_type": "code",
      "metadata": {
        "id": "aAf27Z3xWyTe",
        "colab_type": "code",
        "colab": {}
      },
      "source": [
        ""
      ],
      "execution_count": 0,
      "outputs": []
    }
  ]
}