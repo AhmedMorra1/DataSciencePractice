{
  "nbformat": 4,
  "nbformat_minor": 0,
  "metadata": {
    "colab": {
      "name": "Why FPX dominated G2.ipynb",
      "provenance": [],
      "include_colab_link": true
    },
    "kernelspec": {
      "name": "python3",
      "display_name": "Python 3"
    }
  },
  "cells": [
    {
      "cell_type": "markdown",
      "metadata": {
        "id": "view-in-github",
        "colab_type": "text"
      },
      "source": [
        "<a href=\"https://colab.research.google.com/github/AhmedMorra1/DataSciencePractice/blob/master/Why_FPX_dominated_G2.ipynb\" target=\"_parent\"><img src=\"https://colab.research.google.com/assets/colab-badge.svg\" alt=\"Open In Colab\"/></a>"
      ]
    },
    {
      "cell_type": "markdown",
      "metadata": {
        "id": "qP9ermfLi-RY",
        "colab_type": "text"
      },
      "source": [
        "#**G2 had everything to win Worlds 2019, what happened?**"
      ]
    },
    {
      "cell_type": "markdown",
      "metadata": {
        "id": "caRwSlSqktUG",
        "colab_type": "text"
      },
      "source": [
        "Situation: To start, describe the current state to your audience. What is the status quo you’re trying to change?\n",
        "\n",
        "Problem: Next, picture the problem. What’s the issue with the situation? Wherein lies the pain you’re trying to solve?\n",
        "\n",
        "Solution: Present the solution. How do you solve the problem? How do you cure the pain?\n",
        "\n",
        "Next Steps: You convinced the audience. What are the next steps you need to take? Which actions need to be taken?"
      ]
    },
    {
      "cell_type": "markdown",
      "metadata": {
        "id": "mNrOpRA5ntJp",
        "colab_type": "text"
      },
      "source": [
        "**Situation**\n",
        "Funplus Phoenix dominated G2 Esports in League of Legends Worlds Final, Winning with a clean sweep 3-0, for the second year in a row the LPL team clean sweep the EU team in the finals."
      ]
    },
    {
      "cell_type": "markdown",
      "metadata": {
        "id": "6BuSbs0SjC9N",
        "colab_type": "text"
      },
      "source": [
        "**Problem**  Though LPL is known to be a stronger region than LEC, G2 were the favorites before the start of the tournament, They won every championship they participated in through the whole year, LEC spring split, Mid Season Invitational and LEC summer split.\n",
        "G2 Proved themselves in their region and internationaly, FPX on the other hand only won the LPL summer split, positioned 3rd in spring split.\n",
        "G2 players had international experience while FPX players didn't have any."
      ]
    },
    {
      "cell_type": "markdown",
      "metadata": {
        "id": "aAsp8rY80If-",
        "colab_type": "text"
      },
      "source": [
        "**Solution** In this notebook we will try to gain insight on why Funplus Phoenix as a team and individualy performed better than G2 Esports and won the tournamnet.\n",
        "Since the two teams compete in two different regions we will only compare between them using Worlds Championship data. "
      ]
    },
    {
      "cell_type": "markdown",
      "metadata": {
        "id": "8_C-xVR_3PFn",
        "colab_type": "text"
      },
      "source": [
        "We will start to explore individual performance of each player from both teams and how each rank against their opponent through the tournament, that will give us a hint about the individual power before diving into the team work."
      ]
    },
    {
      "cell_type": "markdown",
      "metadata": {
        "id": "q5S1iUVF5C1J",
        "colab_type": "text"
      },
      "source": [
        "First let's download the data from http://oracleselixir.com"
      ]
    },
    {
      "cell_type": "code",
      "metadata": {
        "id": "-pJfPrPviwpO",
        "colab_type": "code",
        "outputId": "a3707721-c54d-4478-f815-d320afd852ea",
        "colab": {
          "base_uri": "https://localhost:8080/",
          "height": 202
        }
      },
      "source": [
        "!wget http://oracleselixir.com/gamedata/2019-worlds/"
      ],
      "execution_count": 0,
      "outputs": [
        {
          "output_type": "stream",
          "text": [
            "--2019-12-06 17:38:29--  http://oracleselixir.com/gamedata/2019-worlds/\n",
            "Resolving oracleselixir.com (oracleselixir.com)... 69.73.182.198\n",
            "Connecting to oracleselixir.com (oracleselixir.com)|69.73.182.198|:80... connected.\n",
            "HTTP request sent, awaiting response... 200 OK\n",
            "Length: 826550 (807K) [application/vnd.openxmlformats-officedocument.spreadsheetml.sheet]\n",
            "Saving to: ‘index.html.3’\n",
            "\n",
            "index.html.3        100%[===================>] 807.18K   925KB/s    in 0.9s    \n",
            "\n",
            "2019-12-06 17:38:32 (925 KB/s) - ‘index.html.3’ saved [826550/826550]\n",
            "\n"
          ],
          "name": "stdout"
        }
      ]
    },
    {
      "cell_type": "markdown",
      "metadata": {
        "id": "vwNWG9UZ5eXl",
        "colab_type": "text"
      },
      "source": [
        "Now let's import the needed libraries for this analysis"
      ]
    },
    {
      "cell_type": "code",
      "metadata": {
        "id": "mCaQMy4J5UvF",
        "colab_type": "code",
        "colab": {}
      },
      "source": [
        "import pandas as pd\n",
        "import numpy as np\n",
        "import seaborn as sns\n",
        "import matplotlib.pyplot as plt\n",
        "%matplotlib inline\n",
        "pd.set_option('display.max_column',None)\n",
        "pd.set_option('display.max_row',None)"
      ],
      "execution_count": 0,
      "outputs": []
    },
    {
      "cell_type": "markdown",
      "metadata": {
        "id": "omaemU006AG4",
        "colab_type": "text"
      },
      "source": [
        "Let's put our data into data frame to ease our exploration process"
      ]
    },
    {
      "cell_type": "code",
      "metadata": {
        "id": "bHrBnUfL58bp",
        "colab_type": "code",
        "colab": {}
      },
      "source": [
        "df = pd.read_excel('index.html')"
      ],
      "execution_count": 0,
      "outputs": []
    },
    {
      "cell_type": "markdown",
      "metadata": {
        "id": "PVp6HiIH6VC7",
        "colab_type": "text"
      },
      "source": [
        "Since the two teams didn't participate in the play-in stage I will remove the matches from that stage from the dataframe.\n",
        "\n",
        "First let's get the unique values for the column 'week' to see which weeks we are not interested in"
      ]
    },
    {
      "cell_type": "code",
      "metadata": {
        "id": "Ozw0Zick6LY7",
        "colab_type": "code",
        "outputId": "b4c820b9-ce54-428b-f6e1-15714880d2f4",
        "colab": {
          "base_uri": "https://localhost:8080/",
          "height": 34
        }
      },
      "source": [
        "df['week'].unique()"
      ],
      "execution_count": 0,
      "outputs": [
        {
          "output_type": "execute_result",
          "data": {
            "text/plain": [
              "array(['PI-RR', 'PI-KO', 'G', 'QF', 'SF', 'F'], dtype=object)"
            ]
          },
          "metadata": {
            "tags": []
          },
          "execution_count": 4
        }
      ]
    },
    {
      "cell_type": "markdown",
      "metadata": {
        "id": "NVT9WgXW65nT",
        "colab_type": "text"
      },
      "source": [
        "Let's Delete these weeks ['PI-RR','PI-KO','F']\n",
        "\n",
        "I deleted the final to only calculate the road to the finals for both teams"
      ]
    },
    {
      "cell_type": "code",
      "metadata": {
        "id": "5mzM_Yi_6swc",
        "colab_type": "code",
        "colab": {}
      },
      "source": [
        "df = df[df['week'].isin(['G', 'QF', 'SF'])]"
      ],
      "execution_count": 0,
      "outputs": []
    },
    {
      "cell_type": "markdown",
      "metadata": {
        "id": "StGK65t6qei9",
        "colab_type": "text"
      },
      "source": [
        "Let's seperate the teams from the players"
      ]
    },
    {
      "cell_type": "code",
      "metadata": {
        "id": "aJoj-PMv7JIm",
        "colab_type": "code",
        "colab": {}
      },
      "source": [
        "teams = df.loc[df['player']=='Team']"
      ],
      "execution_count": 0,
      "outputs": []
    },
    {
      "cell_type": "code",
      "metadata": {
        "id": "d0GLHMHD8EUD",
        "colab_type": "code",
        "colab": {}
      },
      "source": [
        "playernames = ['Wunder','GimGoon','Jankos','Tian','Caps','Doinb','Perkz','Lwx','Mikyx','Crisp']\n",
        "players = df.loc[(df['player']!='Team') & (df['player'].isin(playernames))]"
      ],
      "execution_count": 0,
      "outputs": []
    },
    {
      "cell_type": "markdown",
      "metadata": {
        "id": "A8w5BgoTrUWy",
        "colab_type": "text"
      },
      "source": [
        "Now let's start to explore players data.\n",
        "\n",
        "What we will focus on is \n",
        "\n",
        "1.   KDA (all)\n",
        "2.   Kill per minute \n",
        "3.   Damage to champs per minute \n",
        "4.   Earned gold per minute\n",
        "5.   Wards per minute (support)\n",
        "6.   Cs per minute (top/mid/bot)\n",
        "7.   Monster kills (jungler)\n",
        "\n",
        "\n"
      ]
    },
    {
      "cell_type": "markdown",
      "metadata": {
        "id": "xkA84uUCuuMS",
        "colab_type": "text"
      },
      "source": [
        "Let's start with KDA."
      ]
    },
    {
      "cell_type": "code",
      "metadata": {
        "id": "ENPprOcKq_s_",
        "colab_type": "code",
        "outputId": "6a0562fd-de82-44ed-bd0c-ac85a71d8872",
        "colab": {
          "base_uri": "https://localhost:8080/",
          "height": 207
        }
      },
      "source": [
        "rules = ['Top','Jungle','Middle','ADC','Support']\n",
        "y = 0\n",
        "fig,ax = plt.subplots(1,5,figsize=(30,2),squeeze=False)\n",
        "for i in rules:\n",
        "    kda = players.loc[players['position']==i].groupby(['player'])['k','d','a'].sum()\n",
        "    kda['kda'] = (kda['k']+kda['a'])/kda['d']\n",
        "    kda = kda.sort_values(['kda'],ascending=False)\n",
        "    sns.barplot(x=kda['kda'],y=kda.index,data=kda,ax=ax[0][y])\n",
        "    ax[0][y].set_title(i)\n",
        "    y += 1\n",
        "plt.show()      "
      ],
      "execution_count": 0,
      "outputs": [
        {
          "output_type": "display_data",
          "data": {
            "image/png": "[encoded data removed]",
            "text/plain": [
              "<Figure size 2160x144 with 5 Axes>"
            ]
          },
          "metadata": {
            "tags": []
          }
        }
      ]
    },
    {
      "cell_type": "markdown",
      "metadata": {
        "id": "g7duO_TVCkqy",
        "colab_type": "text"
      },
      "source": [
        "As we can see FPX Players dominate the KDA stats over G2 Esports players"
      ]
    },
    {
      "cell_type": "markdown",
      "metadata": {
        "id": "caKDHMmw3XVS",
        "colab_type": "text"
      },
      "source": [
        "Now let's see the average kill per minute for each player"
      ]
    },
    {
      "cell_type": "code",
      "metadata": {
        "id": "oWqr-Q0Wyra0",
        "colab_type": "code",
        "outputId": "9e6f1882-485f-450b-ee3c-7950dec465c0",
        "colab": {
          "base_uri": "https://localhost:8080/",
          "height": 207
        }
      },
      "source": [
        "d = 0\n",
        "fig,ax = plt.subplots(1,5,figsize=(30,2),squeeze=False)\n",
        "for i in rules:\n",
        "    kpm = players.loc[players['position']==i].groupby(['player'])['kpm'].mean().reset_index()\n",
        "    kpm = kpm.sort_values(['kpm'],ascending=False)\n",
        "    sns.barplot(x=kpm['kpm'],y=kpm['player'],data=kpm,ax=ax[0][d])\n",
        "    ax[0][d].set_title(i)\n",
        "    d += 1  \n",
        "plt.show() "
      ],
      "execution_count": 0,
      "outputs": [
        {
          "output_type": "display_data",
          "data": {
            "image/png": "[encoded data removed]",
            "text/plain": [
              "<Figure size 2160x144 with 5 Axes>"
            ]
          },
          "metadata": {
            "tags": []
          }
        }
      ]
    },
    {
      "cell_type": "markdown",
      "metadata": {
        "id": "iOgmDffJT9UG",
        "colab_type": "text"
      },
      "source": [
        "Again FPX Players dominate the KPM stats over G2 Esports players"
      ]
    },
    {
      "cell_type": "markdown",
      "metadata": {
        "id": "inrVSuUhUNwN",
        "colab_type": "text"
      },
      "source": [
        "Now let's check the Damage Per Minute Stats"
      ]
    },
    {
      "cell_type": "code",
      "metadata": {
        "id": "MLIIC77RUWFl",
        "colab_type": "code",
        "outputId": "7287b7ee-2725-4b43-9ec7-65b38058fb7b",
        "colab": {
          "base_uri": "https://localhost:8080/",
          "height": 299
        }
      },
      "source": [
        "players.head()"
      ],
      "execution_count": 0,
      "outputs": [
        {
          "output_type": "execute_result",
          "data": {
            "text/html": [
              "<div>\n",
              "<style scoped>\n",
              "    .dataframe tbody tr th:only-of-type {\n",
              "        vertical-align: middle;\n",
              "    }\n",
              "\n",
              "    .dataframe tbody tr th {\n",
              "        vertical-align: top;\n",
              "    }\n",
              "\n",
              "    .dataframe thead th {\n",
              "        text-align: right;\n",
              "    }\n",
              "</style>\n",
              "<table border=\"1\" class=\"dataframe\">\n",
              "  <thead>\n",
              "    <tr style=\"text-align: right;\">\n",
              "      <th></th>\n",
              "      <th>gameid</th>\n",
              "      <th>url</th>\n",
              "      <th>league</th>\n",
              "      <th>split</th>\n",
              "      <th>date</th>\n",
              "      <th>week</th>\n",
              "      <th>game</th>\n",
              "      <th>patchno</th>\n",
              "      <th>playerid</th>\n",
              "      <th>side</th>\n",
              "      <th>position</th>\n",
              "      <th>player</th>\n",
              "      <th>team</th>\n",
              "      <th>champion</th>\n",
              "      <th>ban1</th>\n",
              "      <th>ban2</th>\n",
              "      <th>ban3</th>\n",
              "      <th>ban4</th>\n",
              "      <th>ban5</th>\n",
              "      <th>gamelength</th>\n",
              "      <th>result</th>\n",
              "      <th>k</th>\n",
              "      <th>d</th>\n",
              "      <th>a</th>\n",
              "      <th>teamkills</th>\n",
              "      <th>teamdeaths</th>\n",
              "      <th>doubles</th>\n",
              "      <th>triples</th>\n",
              "      <th>quadras</th>\n",
              "      <th>pentas</th>\n",
              "      <th>fb</th>\n",
              "      <th>fbassist</th>\n",
              "      <th>fbvictim</th>\n",
              "      <th>fbtime</th>\n",
              "      <th>kpm</th>\n",
              "      <th>okpm</th>\n",
              "      <th>ckpm</th>\n",
              "      <th>fd</th>\n",
              "      <th>fdtime</th>\n",
              "      <th>teamdragkills</th>\n",
              "      <th>oppdragkills</th>\n",
              "      <th>elementals</th>\n",
              "      <th>oppelementals</th>\n",
              "      <th>firedrakes</th>\n",
              "      <th>waterdrakes</th>\n",
              "      <th>earthdrakes</th>\n",
              "      <th>airdrakes</th>\n",
              "      <th>elders</th>\n",
              "      <th>oppelders</th>\n",
              "      <th>herald</th>\n",
              "      <th>heraldtime</th>\n",
              "      <th>ft</th>\n",
              "      <th>fttime</th>\n",
              "      <th>firstmidouter</th>\n",
              "      <th>firsttothreetowers</th>\n",
              "      <th>teamtowerkills</th>\n",
              "      <th>opptowerkills</th>\n",
              "      <th>fbaron</th>\n",
              "      <th>fbarontime</th>\n",
              "      <th>teambaronkills</th>\n",
              "      <th>oppbaronkills</th>\n",
              "      <th>dmgtochamps</th>\n",
              "      <th>dmgtochampsperminute</th>\n",
              "      <th>dmgshare</th>\n",
              "      <th>earnedgoldshare</th>\n",
              "      <th>wards</th>\n",
              "      <th>wpm</th>\n",
              "      <th>wardshare</th>\n",
              "      <th>wardkills</th>\n",
              "      <th>wcpm</th>\n",
              "      <th>visionwards</th>\n",
              "      <th>visionwardbuys</th>\n",
              "      <th>visiblewardclearrate</th>\n",
              "      <th>invisiblewardclearrate</th>\n",
              "      <th>totalgold</th>\n",
              "      <th>earnedgpm</th>\n",
              "      <th>goldspent</th>\n",
              "      <th>gspd</th>\n",
              "      <th>minionkills</th>\n",
              "      <th>monsterkills</th>\n",
              "      <th>monsterkillsownjungle</th>\n",
              "      <th>monsterkillsenemyjungle</th>\n",
              "      <th>cspm</th>\n",
              "      <th>goldat10</th>\n",
              "      <th>oppgoldat10</th>\n",
              "      <th>gdat10</th>\n",
              "      <th>goldat15</th>\n",
              "      <th>oppgoldat15</th>\n",
              "      <th>gdat15</th>\n",
              "      <th>xpat10</th>\n",
              "      <th>oppxpat10</th>\n",
              "      <th>xpdat10</th>\n",
              "      <th>csat10</th>\n",
              "      <th>oppcsat10</th>\n",
              "      <th>csdat10</th>\n",
              "      <th>csat15</th>\n",
              "      <th>oppcsat15</th>\n",
              "      <th>csdat15</th>\n",
              "    </tr>\n",
              "  </thead>\n",
              "  <tbody>\n",
              "    <tr>\n",
              "      <th>557</th>\n",
              "      <td>1061043</td>\n",
              "      <td>http://matchhistory.na.leagueoflegends.com/en/...</td>\n",
              "      <td>WC</td>\n",
              "      <td>2019-W</td>\n",
              "      <td>43750.46272</td>\n",
              "      <td>G</td>\n",
              "      <td>1</td>\n",
              "      <td>9.19</td>\n",
              "      <td>6</td>\n",
              "      <td>Red</td>\n",
              "      <td>Top</td>\n",
              "      <td>GimGoon</td>\n",
              "      <td>Funplus Phoenix</td>\n",
              "      <td>Mordekaiser</td>\n",
              "      <td>Pantheon</td>\n",
              "      <td>Syndra</td>\n",
              "      <td>Renekton</td>\n",
              "      <td>Tristana</td>\n",
              "      <td>Aatrox</td>\n",
              "      <td>36.65</td>\n",
              "      <td>0</td>\n",
              "      <td>3</td>\n",
              "      <td>3</td>\n",
              "      <td>2</td>\n",
              "      <td>11</td>\n",
              "      <td>18</td>\n",
              "      <td>0</td>\n",
              "      <td>0</td>\n",
              "      <td>0</td>\n",
              "      <td>0</td>\n",
              "      <td>1</td>\n",
              "      <td>0</td>\n",
              "      <td>0</td>\n",
              "      <td>5.031317</td>\n",
              "      <td>0.081855</td>\n",
              "      <td>0.136426</td>\n",
              "      <td>0.791269</td>\n",
              "      <td>0</td>\n",
              "      <td>8.911983</td>\n",
              "      <td>4</td>\n",
              "      <td>1</td>\n",
              "      <td>0</td>\n",
              "      <td>0</td>\n",
              "      <td>0</td>\n",
              "      <td>0</td>\n",
              "      <td>0</td>\n",
              "      <td>0</td>\n",
              "      <td>0</td>\n",
              "      <td>0</td>\n",
              "      <td>0</td>\n",
              "      <td>NaN</td>\n",
              "      <td>1</td>\n",
              "      <td>16.04145</td>\n",
              "      <td>0</td>\n",
              "      <td>0</td>\n",
              "      <td>2</td>\n",
              "      <td>9</td>\n",
              "      <td>0.0</td>\n",
              "      <td>26.176567</td>\n",
              "      <td>0</td>\n",
              "      <td>2</td>\n",
              "      <td>12451</td>\n",
              "      <td>339.727149</td>\n",
              "      <td>0.205462</td>\n",
              "      <td>0.224586</td>\n",
              "      <td>16</td>\n",
              "      <td>0.436562</td>\n",
              "      <td>0.110345</td>\n",
              "      <td>6</td>\n",
              "      <td>0.163711</td>\n",
              "      <td>5</td>\n",
              "      <td>5</td>\n",
              "      <td></td>\n",
              "      <td></td>\n",
              "      <td>13171</td>\n",
              "      <td>229.452660</td>\n",
              "      <td>12975</td>\n",
              "      <td>-0.149073</td>\n",
              "      <td>257</td>\n",
              "      <td>9</td>\n",
              "      <td>4</td>\n",
              "      <td>0</td>\n",
              "      <td>7.257844</td>\n",
              "      <td>3525</td>\n",
              "      <td>3350</td>\n",
              "      <td>175</td>\n",
              "      <td>5387</td>\n",
              "      <td>5093</td>\n",
              "      <td>294</td>\n",
              "      <td>4416</td>\n",
              "      <td>4588</td>\n",
              "      <td>-172</td>\n",
              "      <td>81</td>\n",
              "      <td>82</td>\n",
              "      <td>-1</td>\n",
              "      <td>138</td>\n",
              "      <td>133</td>\n",
              "      <td>5</td>\n",
              "    </tr>\n",
              "    <tr>\n",
              "      <th>558</th>\n",
              "      <td>1061043</td>\n",
              "      <td>http://matchhistory.na.leagueoflegends.com/en/...</td>\n",
              "      <td>WC</td>\n",
              "      <td>2019-W</td>\n",
              "      <td>43750.46272</td>\n",
              "      <td>G</td>\n",
              "      <td>1</td>\n",
              "      <td>9.19</td>\n",
              "      <td>7</td>\n",
              "      <td>Red</td>\n",
              "      <td>Jungle</td>\n",
              "      <td>Tian</td>\n",
              "      <td>Funplus Phoenix</td>\n",
              "      <td>Elise</td>\n",
              "      <td>Pantheon</td>\n",
              "      <td>Syndra</td>\n",
              "      <td>Renekton</td>\n",
              "      <td>Tristana</td>\n",
              "      <td>Aatrox</td>\n",
              "      <td>36.65</td>\n",
              "      <td>0</td>\n",
              "      <td>2</td>\n",
              "      <td>4</td>\n",
              "      <td>7</td>\n",
              "      <td>11</td>\n",
              "      <td>18</td>\n",
              "      <td>0</td>\n",
              "      <td>0</td>\n",
              "      <td>0</td>\n",
              "      <td>0</td>\n",
              "      <td>0</td>\n",
              "      <td>1</td>\n",
              "      <td>0</td>\n",
              "      <td>5.031317</td>\n",
              "      <td>0.054570</td>\n",
              "      <td>0.000000</td>\n",
              "      <td>0.791269</td>\n",
              "      <td>1</td>\n",
              "      <td>8.911983</td>\n",
              "      <td>4</td>\n",
              "      <td>1</td>\n",
              "      <td>4</td>\n",
              "      <td>1</td>\n",
              "      <td>3</td>\n",
              "      <td>0</td>\n",
              "      <td>0</td>\n",
              "      <td>1</td>\n",
              "      <td>0</td>\n",
              "      <td>0</td>\n",
              "      <td>0</td>\n",
              "      <td>NaN</td>\n",
              "      <td>1</td>\n",
              "      <td>16.04145</td>\n",
              "      <td>0</td>\n",
              "      <td>0</td>\n",
              "      <td>2</td>\n",
              "      <td>9</td>\n",
              "      <td>0.0</td>\n",
              "      <td>26.176567</td>\n",
              "      <td>0</td>\n",
              "      <td>2</td>\n",
              "      <td>15998</td>\n",
              "      <td>436.507503</td>\n",
              "      <td>0.263993</td>\n",
              "      <td>0.195903</td>\n",
              "      <td>44</td>\n",
              "      <td>1.200546</td>\n",
              "      <td>0.303448</td>\n",
              "      <td>20</td>\n",
              "      <td>0.545703</td>\n",
              "      <td>20</td>\n",
              "      <td>22</td>\n",
              "      <td></td>\n",
              "      <td></td>\n",
              "      <td>12097</td>\n",
              "      <td>200.148431</td>\n",
              "      <td>11750</td>\n",
              "      <td>0.088889</td>\n",
              "      <td>49</td>\n",
              "      <td>171</td>\n",
              "      <td>113</td>\n",
              "      <td>8</td>\n",
              "      <td>6.002729</td>\n",
              "      <td>3247</td>\n",
              "      <td>2995</td>\n",
              "      <td>252</td>\n",
              "      <td>5132</td>\n",
              "      <td>4591</td>\n",
              "      <td>541</td>\n",
              "      <td>3382</td>\n",
              "      <td>3133</td>\n",
              "      <td>249</td>\n",
              "      <td>64</td>\n",
              "      <td>56</td>\n",
              "      <td>8</td>\n",
              "      <td>96</td>\n",
              "      <td>89</td>\n",
              "      <td>7</td>\n",
              "    </tr>\n",
              "    <tr>\n",
              "      <th>559</th>\n",
              "      <td>1061043</td>\n",
              "      <td>http://matchhistory.na.leagueoflegends.com/en/...</td>\n",
              "      <td>WC</td>\n",
              "      <td>2019-W</td>\n",
              "      <td>43750.46272</td>\n",
              "      <td>G</td>\n",
              "      <td>1</td>\n",
              "      <td>9.19</td>\n",
              "      <td>8</td>\n",
              "      <td>Red</td>\n",
              "      <td>Middle</td>\n",
              "      <td>Doinb</td>\n",
              "      <td>Funplus Phoenix</td>\n",
              "      <td>Sion</td>\n",
              "      <td>Pantheon</td>\n",
              "      <td>Syndra</td>\n",
              "      <td>Renekton</td>\n",
              "      <td>Tristana</td>\n",
              "      <td>Aatrox</td>\n",
              "      <td>36.65</td>\n",
              "      <td>0</td>\n",
              "      <td>1</td>\n",
              "      <td>3</td>\n",
              "      <td>8</td>\n",
              "      <td>11</td>\n",
              "      <td>18</td>\n",
              "      <td>0</td>\n",
              "      <td>0</td>\n",
              "      <td>0</td>\n",
              "      <td>0</td>\n",
              "      <td>0</td>\n",
              "      <td>1</td>\n",
              "      <td>0</td>\n",
              "      <td>5.031317</td>\n",
              "      <td>0.027285</td>\n",
              "      <td>0.136426</td>\n",
              "      <td>0.791269</td>\n",
              "      <td>0</td>\n",
              "      <td>8.911983</td>\n",
              "      <td>4</td>\n",
              "      <td>1</td>\n",
              "      <td>0</td>\n",
              "      <td>0</td>\n",
              "      <td>0</td>\n",
              "      <td>0</td>\n",
              "      <td>0</td>\n",
              "      <td>0</td>\n",
              "      <td>0</td>\n",
              "      <td>0</td>\n",
              "      <td>0</td>\n",
              "      <td>NaN</td>\n",
              "      <td>1</td>\n",
              "      <td>16.04145</td>\n",
              "      <td>0</td>\n",
              "      <td>0</td>\n",
              "      <td>2</td>\n",
              "      <td>9</td>\n",
              "      <td>0.0</td>\n",
              "      <td>26.176567</td>\n",
              "      <td>0</td>\n",
              "      <td>2</td>\n",
              "      <td>12546</td>\n",
              "      <td>342.319236</td>\n",
              "      <td>0.20703</td>\n",
              "      <td>0.194888</td>\n",
              "      <td>6</td>\n",
              "      <td>0.163711</td>\n",
              "      <td>0.041379</td>\n",
              "      <td>17</td>\n",
              "      <td>0.463847</td>\n",
              "      <td>6</td>\n",
              "      <td>6</td>\n",
              "      <td></td>\n",
              "      <td></td>\n",
              "      <td>12059</td>\n",
              "      <td>199.111596</td>\n",
              "      <td>11800</td>\n",
              "      <td>-0.227230</td>\n",
              "      <td>270</td>\n",
              "      <td>8</td>\n",
              "      <td>4</td>\n",
              "      <td>0</td>\n",
              "      <td>7.585266</td>\n",
              "      <td>3149</td>\n",
              "      <td>3092</td>\n",
              "      <td>57</td>\n",
              "      <td>5548</td>\n",
              "      <td>5202</td>\n",
              "      <td>346</td>\n",
              "      <td>4830</td>\n",
              "      <td>4357</td>\n",
              "      <td>473</td>\n",
              "      <td>78</td>\n",
              "      <td>84</td>\n",
              "      <td>-6</td>\n",
              "      <td>132</td>\n",
              "      <td>144</td>\n",
              "      <td>-12</td>\n",
              "    </tr>\n",
              "    <tr>\n",
              "      <th>560</th>\n",
              "      <td>1061043</td>\n",
              "      <td>http://matchhistory.na.leagueoflegends.com/en/...</td>\n",
              "      <td>WC</td>\n",
              "      <td>2019-W</td>\n",
              "      <td>43750.46272</td>\n",
              "      <td>G</td>\n",
              "      <td>1</td>\n",
              "      <td>9.19</td>\n",
              "      <td>9</td>\n",
              "      <td>Red</td>\n",
              "      <td>ADC</td>\n",
              "      <td>Lwx</td>\n",
              "      <td>Funplus Phoenix</td>\n",
              "      <td>Kai'Sa</td>\n",
              "      <td>Pantheon</td>\n",
              "      <td>Syndra</td>\n",
              "      <td>Renekton</td>\n",
              "      <td>Tristana</td>\n",
              "      <td>Aatrox</td>\n",
              "      <td>36.65</td>\n",
              "      <td>0</td>\n",
              "      <td>5</td>\n",
              "      <td>4</td>\n",
              "      <td>1</td>\n",
              "      <td>11</td>\n",
              "      <td>18</td>\n",
              "      <td>1</td>\n",
              "      <td>0</td>\n",
              "      <td>0</td>\n",
              "      <td>0</td>\n",
              "      <td>0</td>\n",
              "      <td>0</td>\n",
              "      <td>0</td>\n",
              "      <td>5.031317</td>\n",
              "      <td>0.136426</td>\n",
              "      <td>0.190996</td>\n",
              "      <td>0.791269</td>\n",
              "      <td>0</td>\n",
              "      <td>8.911983</td>\n",
              "      <td>4</td>\n",
              "      <td>1</td>\n",
              "      <td>0</td>\n",
              "      <td>0</td>\n",
              "      <td>0</td>\n",
              "      <td>0</td>\n",
              "      <td>0</td>\n",
              "      <td>0</td>\n",
              "      <td>0</td>\n",
              "      <td>0</td>\n",
              "      <td>0</td>\n",
              "      <td>NaN</td>\n",
              "      <td>1</td>\n",
              "      <td>16.04145</td>\n",
              "      <td>0</td>\n",
              "      <td>0</td>\n",
              "      <td>2</td>\n",
              "      <td>9</td>\n",
              "      <td>0.0</td>\n",
              "      <td>26.176567</td>\n",
              "      <td>0</td>\n",
              "      <td>2</td>\n",
              "      <td>14735</td>\n",
              "      <td>402.046385</td>\n",
              "      <td>0.243152</td>\n",
              "      <td>0.305213</td>\n",
              "      <td>13</td>\n",
              "      <td>0.354707</td>\n",
              "      <td>0.089655</td>\n",
              "      <td>18</td>\n",
              "      <td>0.491132</td>\n",
              "      <td>5</td>\n",
              "      <td>5</td>\n",
              "      <td></td>\n",
              "      <td></td>\n",
              "      <td>16190</td>\n",
              "      <td>311.826467</td>\n",
              "      <td>17145</td>\n",
              "      <td>0.065974</td>\n",
              "      <td>356</td>\n",
              "      <td>24</td>\n",
              "      <td>20</td>\n",
              "      <td>0</td>\n",
              "      <td>10.368349</td>\n",
              "      <td>3117</td>\n",
              "      <td>3174</td>\n",
              "      <td>-57</td>\n",
              "      <td>4765</td>\n",
              "      <td>5419</td>\n",
              "      <td>-654</td>\n",
              "      <td>3312</td>\n",
              "      <td>3239</td>\n",
              "      <td>73</td>\n",
              "      <td>81</td>\n",
              "      <td>85</td>\n",
              "      <td>-4</td>\n",
              "      <td>135</td>\n",
              "      <td>131</td>\n",
              "      <td>4</td>\n",
              "    </tr>\n",
              "    <tr>\n",
              "      <th>561</th>\n",
              "      <td>1061043</td>\n",
              "      <td>http://matchhistory.na.leagueoflegends.com/en/...</td>\n",
              "      <td>WC</td>\n",
              "      <td>2019-W</td>\n",
              "      <td>43750.46272</td>\n",
              "      <td>G</td>\n",
              "      <td>1</td>\n",
              "      <td>9.19</td>\n",
              "      <td>10</td>\n",
              "      <td>Red</td>\n",
              "      <td>Support</td>\n",
              "      <td>Crisp</td>\n",
              "      <td>Funplus Phoenix</td>\n",
              "      <td>Galio</td>\n",
              "      <td>Pantheon</td>\n",
              "      <td>Syndra</td>\n",
              "      <td>Renekton</td>\n",
              "      <td>Tristana</td>\n",
              "      <td>Aatrox</td>\n",
              "      <td>36.65</td>\n",
              "      <td>0</td>\n",
              "      <td>0</td>\n",
              "      <td>4</td>\n",
              "      <td>7</td>\n",
              "      <td>11</td>\n",
              "      <td>18</td>\n",
              "      <td>0</td>\n",
              "      <td>0</td>\n",
              "      <td>0</td>\n",
              "      <td>0</td>\n",
              "      <td>0</td>\n",
              "      <td>0</td>\n",
              "      <td>0</td>\n",
              "      <td>5.031317</td>\n",
              "      <td>0.000000</td>\n",
              "      <td>0.027285</td>\n",
              "      <td>0.791269</td>\n",
              "      <td>0</td>\n",
              "      <td>8.911983</td>\n",
              "      <td>4</td>\n",
              "      <td>1</td>\n",
              "      <td>0</td>\n",
              "      <td>0</td>\n",
              "      <td>0</td>\n",
              "      <td>0</td>\n",
              "      <td>0</td>\n",
              "      <td>0</td>\n",
              "      <td>0</td>\n",
              "      <td>0</td>\n",
              "      <td>0</td>\n",
              "      <td>NaN</td>\n",
              "      <td>1</td>\n",
              "      <td>16.04145</td>\n",
              "      <td>0</td>\n",
              "      <td>0</td>\n",
              "      <td>2</td>\n",
              "      <td>9</td>\n",
              "      <td>0.0</td>\n",
              "      <td>26.176567</td>\n",
              "      <td>0</td>\n",
              "      <td>2</td>\n",
              "      <td>4870</td>\n",
              "      <td>132.878581</td>\n",
              "      <td>0.080363</td>\n",
              "      <td>0.0794099</td>\n",
              "      <td>66</td>\n",
              "      <td>1.800819</td>\n",
              "      <td>0.455172</td>\n",
              "      <td>11</td>\n",
              "      <td>0.300136</td>\n",
              "      <td>20</td>\n",
              "      <td>21</td>\n",
              "      <td></td>\n",
              "      <td></td>\n",
              "      <td>7735</td>\n",
              "      <td>81.130696</td>\n",
              "      <td>7725</td>\n",
              "      <td>-0.080745</td>\n",
              "      <td>69</td>\n",
              "      <td>0</td>\n",
              "      <td>0</td>\n",
              "      <td>0</td>\n",
              "      <td>1.882674</td>\n",
              "      <td>1871</td>\n",
              "      <td>1976</td>\n",
              "      <td>-105</td>\n",
              "      <td>2943</td>\n",
              "      <td>2983</td>\n",
              "      <td>-40</td>\n",
              "      <td>1984</td>\n",
              "      <td>2514</td>\n",
              "      <td>-530</td>\n",
              "      <td>13</td>\n",
              "      <td>15</td>\n",
              "      <td>-2</td>\n",
              "      <td>21</td>\n",
              "      <td>24</td>\n",
              "      <td>-3</td>\n",
              "    </tr>\n",
              "  </tbody>\n",
              "</table>\n",
              "</div>"
            ],
            "text/plain": [
              "      gameid                                                url league  \\\n",
              "557  1061043  http://matchhistory.na.leagueoflegends.com/en/...     WC   \n",
              "558  1061043  http://matchhistory.na.leagueoflegends.com/en/...     WC   \n",
              "559  1061043  http://matchhistory.na.leagueoflegends.com/en/...     WC   \n",
              "560  1061043  http://matchhistory.na.leagueoflegends.com/en/...     WC   \n",
              "561  1061043  http://matchhistory.na.leagueoflegends.com/en/...     WC   \n",
              "\n",
              "      split         date week game  patchno  playerid side position   player  \\\n",
              "557  2019-W  43750.46272    G    1     9.19         6  Red      Top  GimGoon   \n",
              "558  2019-W  43750.46272    G    1     9.19         7  Red   Jungle     Tian   \n",
              "559  2019-W  43750.46272    G    1     9.19         8  Red   Middle    Doinb   \n",
              "560  2019-W  43750.46272    G    1     9.19         9  Red      ADC      Lwx   \n",
              "561  2019-W  43750.46272    G    1     9.19        10  Red  Support    Crisp   \n",
              "\n",
              "                team     champion      ban1    ban2      ban3      ban4  \\\n",
              "557  Funplus Phoenix  Mordekaiser  Pantheon  Syndra  Renekton  Tristana   \n",
              "558  Funplus Phoenix        Elise  Pantheon  Syndra  Renekton  Tristana   \n",
              "559  Funplus Phoenix         Sion  Pantheon  Syndra  Renekton  Tristana   \n",
              "560  Funplus Phoenix       Kai'Sa  Pantheon  Syndra  Renekton  Tristana   \n",
              "561  Funplus Phoenix        Galio  Pantheon  Syndra  Renekton  Tristana   \n",
              "\n",
              "       ban5  gamelength  result  k  d  a  teamkills  teamdeaths doubles  \\\n",
              "557  Aatrox       36.65       0  3  3  2         11          18       0   \n",
              "558  Aatrox       36.65       0  2  4  7         11          18       0   \n",
              "559  Aatrox       36.65       0  1  3  8         11          18       0   \n",
              "560  Aatrox       36.65       0  5  4  1         11          18       1   \n",
              "561  Aatrox       36.65       0  0  4  7         11          18       0   \n",
              "\n",
              "    triples quadras pentas  fb  fbassist  fbvictim    fbtime       kpm  \\\n",
              "557       0       0      0   1         0         0  5.031317  0.081855   \n",
              "558       0       0      0   0         1         0  5.031317  0.054570   \n",
              "559       0       0      0   0         1         0  5.031317  0.027285   \n",
              "560       0       0      0   0         0         0  5.031317  0.136426   \n",
              "561       0       0      0   0         0         0  5.031317  0.000000   \n",
              "\n",
              "         okpm      ckpm  fd    fdtime  teamdragkills  oppdragkills  \\\n",
              "557  0.136426  0.791269   0  8.911983              4             1   \n",
              "558  0.000000  0.791269   1  8.911983              4             1   \n",
              "559  0.136426  0.791269   0  8.911983              4             1   \n",
              "560  0.190996  0.791269   0  8.911983              4             1   \n",
              "561  0.027285  0.791269   0  8.911983              4             1   \n",
              "\n",
              "     elementals  oppelementals  firedrakes  waterdrakes  earthdrakes  \\\n",
              "557           0              0           0            0            0   \n",
              "558           4              1           3            0            0   \n",
              "559           0              0           0            0            0   \n",
              "560           0              0           0            0            0   \n",
              "561           0              0           0            0            0   \n",
              "\n",
              "     airdrakes  elders  oppelders  herald  heraldtime  ft    fttime  \\\n",
              "557          0       0          0       0         NaN   1  16.04145   \n",
              "558          1       0          0       0         NaN   1  16.04145   \n",
              "559          0       0          0       0         NaN   1  16.04145   \n",
              "560          0       0          0       0         NaN   1  16.04145   \n",
              "561          0       0          0       0         NaN   1  16.04145   \n",
              "\n",
              "     firstmidouter  firsttothreetowers  teamtowerkills  opptowerkills  fbaron  \\\n",
              "557              0                   0               2              9     0.0   \n",
              "558              0                   0               2              9     0.0   \n",
              "559              0                   0               2              9     0.0   \n",
              "560              0                   0               2              9     0.0   \n",
              "561              0                   0               2              9     0.0   \n",
              "\n",
              "     fbarontime  teambaronkills  oppbaronkills  dmgtochamps  \\\n",
              "557   26.176567               0              2        12451   \n",
              "558   26.176567               0              2        15998   \n",
              "559   26.176567               0              2        12546   \n",
              "560   26.176567               0              2        14735   \n",
              "561   26.176567               0              2         4870   \n",
              "\n",
              "     dmgtochampsperminute  dmgshare earnedgoldshare  wards       wpm  \\\n",
              "557            339.727149  0.205462        0.224586     16  0.436562   \n",
              "558            436.507503  0.263993        0.195903     44  1.200546   \n",
              "559            342.319236   0.20703        0.194888      6  0.163711   \n",
              "560            402.046385  0.243152        0.305213     13  0.354707   \n",
              "561            132.878581  0.080363       0.0794099     66  1.800819   \n",
              "\n",
              "     wardshare  wardkills      wcpm  visionwards  visionwardbuys  \\\n",
              "557   0.110345          6  0.163711            5               5   \n",
              "558   0.303448         20  0.545703           20              22   \n",
              "559   0.041379         17  0.463847            6               6   \n",
              "560   0.089655         18  0.491132            5               5   \n",
              "561   0.455172         11  0.300136           20              21   \n",
              "\n",
              "    visiblewardclearrate invisiblewardclearrate  totalgold   earnedgpm  \\\n",
              "557                                                  13171  229.452660   \n",
              "558                                                  12097  200.148431   \n",
              "559                                                  12059  199.111596   \n",
              "560                                                  16190  311.826467   \n",
              "561                                                   7735   81.130696   \n",
              "\n",
              "     goldspent      gspd  minionkills  monsterkills  monsterkillsownjungle  \\\n",
              "557      12975 -0.149073          257             9                      4   \n",
              "558      11750  0.088889           49           171                    113   \n",
              "559      11800 -0.227230          270             8                      4   \n",
              "560      17145  0.065974          356            24                     20   \n",
              "561       7725 -0.080745           69             0                      0   \n",
              "\n",
              "     monsterkillsenemyjungle       cspm  goldat10  oppgoldat10  gdat10  \\\n",
              "557                        0   7.257844      3525         3350     175   \n",
              "558                        8   6.002729      3247         2995     252   \n",
              "559                        0   7.585266      3149         3092      57   \n",
              "560                        0  10.368349      3117         3174     -57   \n",
              "561                        0   1.882674      1871         1976    -105   \n",
              "\n",
              "     goldat15  oppgoldat15  gdat15  xpat10  oppxpat10  xpdat10  csat10  \\\n",
              "557      5387         5093     294    4416       4588     -172      81   \n",
              "558      5132         4591     541    3382       3133      249      64   \n",
              "559      5548         5202     346    4830       4357      473      78   \n",
              "560      4765         5419    -654    3312       3239       73      81   \n",
              "561      2943         2983     -40    1984       2514     -530      13   \n",
              "\n",
              "     oppcsat10  csdat10  csat15  oppcsat15  csdat15  \n",
              "557         82       -1     138        133        5  \n",
              "558         56        8      96         89        7  \n",
              "559         84       -6     132        144      -12  \n",
              "560         85       -4     135        131        4  \n",
              "561         15       -2      21         24       -3  "
            ]
          },
          "metadata": {
            "tags": []
          },
          "execution_count": 18
        }
      ]
    },
    {
      "cell_type": "code",
      "metadata": {
        "id": "1y-kLQ6z8BeH",
        "colab_type": "code",
        "outputId": "178f9d31-65bb-452e-a493-39c2d95f39ab",
        "colab": {
          "base_uri": "https://localhost:8080/",
          "height": 207
        }
      },
      "source": [
        "d = 0\n",
        "fig,ax = plt.subplots(1,5,figsize=(30,2),squeeze=False)\n",
        "for i in rules:\n",
        "    dpm = players.loc[players['position']==i].groupby(['player'])['dmgtochampsperminute'].mean().reset_index()\n",
        "    dpm = dpm.sort_values(['dmgtochampsperminute'],ascending=False)\n",
        "    sns.barplot(x=dpm['dmgtochampsperminute'],y=dpm['player'],data=dpm,ax=ax[0][d])\n",
        "    ax[0][d].set_title(i)\n",
        "    d += 1  \n",
        "plt.show() "
      ],
      "execution_count": 0,
      "outputs": [
        {
          "output_type": "display_data",
          "data": {
            "image/png": "[encoded data removed]",
            "text/plain": [
              "<Figure size 2160x144 with 5 Axes>"
            ]
          },
          "metadata": {
            "tags": []
          }
        }
      ]
    },
    {
      "cell_type": "markdown",
      "metadata": {
        "id": "s-fHtmvzUsrn",
        "colab_type": "text"
      },
      "source": [
        "As we can see it's much closer between the players this time but still FPX has the upper hand"
      ]
    },
    {
      "cell_type": "markdown",
      "metadata": {
        "id": "RuTvml7ZVkll",
        "colab_type": "text"
      },
      "source": [
        "Now let's explore Earned Gold per minute"
      ]
    },
    {
      "cell_type": "code",
      "metadata": {
        "id": "Kjfn75ulUjuo",
        "colab_type": "code",
        "outputId": "93b5fca9-5674-43aa-e956-0e1726fc0d05",
        "colab": {
          "base_uri": "https://localhost:8080/",
          "height": 207
        }
      },
      "source": [
        "d = 0\n",
        "fig,ax = plt.subplots(1,5,figsize=(30,2),squeeze=False)\n",
        "for i in rules:\n",
        "    gpm = players.loc[players['position']==i].groupby(['player'])['dmgtochampsperminute'].mean().reset_index()\n",
        "    gpm = gpm.sort_values(['dmgtochampsperminute'],ascending=False)\n",
        "    sns.barplot(x=gpm['dmgtochampsperminute'],y=gpm['player'],data=gpm,ax=ax[0][d])\n",
        "    ax[0][d].set_title(i)\n",
        "    d += 1  \n",
        "plt.show() "
      ],
      "execution_count": 0,
      "outputs": [
        {
          "output_type": "display_data",
          "data": {
            "image/png": "[encoded data removed]",
            "text/plain": [
              "<Figure size 2160x144 with 5 Axes>"
            ]
          },
          "metadata": {
            "tags": []
          }
        }
      ]
    },
    {
      "cell_type": "markdown",
      "metadata": {
        "id": "ZQYLP_5-V5wE",
        "colab_type": "text"
      },
      "source": [
        "Only Wunder Managed to win this stats the rest is still the same FPX players is better than G2 players"
      ]
    },
    {
      "cell_type": "markdown",
      "metadata": {
        "id": "awSdsGaUWGW2",
        "colab_type": "text"
      },
      "source": [
        "Now for CS per Minute"
      ]
    },
    {
      "cell_type": "code",
      "metadata": {
        "id": "yDfEUvs6V01i",
        "colab_type": "code",
        "outputId": "027bbf8a-ef62-4abf-c590-2b3c8d7e831d",
        "colab": {
          "base_uri": "https://localhost:8080/",
          "height": 207
        }
      },
      "source": [
        "d = 0\n",
        "fig,ax = plt.subplots(1,5,figsize=(30,2),squeeze=False)\n",
        "for i in rules:\n",
        "    cpm = players.loc[players['position']==i].groupby(['player'])['cspm'].mean().reset_index()\n",
        "    cpm = cpm.sort_values(['cspm'],ascending=False)\n",
        "    sns.barplot(x=cpm['cspm'],y=cpm['player'],data=cpm,ax=ax[0][d])\n",
        "    ax[0][d].set_title(i)\n",
        "    d += 1  \n",
        "plt.show() "
      ],
      "execution_count": 0,
      "outputs": [
        {
          "output_type": "display_data",
          "data": {
            "image/png": "[encoded data removed]",
            "text/plain": [
              "<Figure size 2160x144 with 5 Axes>"
            ]
          },
          "metadata": {
            "tags": []
          }
        }
      ]
    },
    {
      "cell_type": "markdown",
      "metadata": {
        "id": "MGB-sAdDWnuU",
        "colab_type": "text"
      },
      "source": [
        "Interesting 3 players from G2 has the higher score here Wunder, Caps and Perkz "
      ]
    },
    {
      "cell_type": "markdown",
      "metadata": {
        "id": "zcwEMdBNW2b-",
        "colab_type": "text"
      },
      "source": [
        "Let's check wards and the vision game"
      ]
    },
    {
      "cell_type": "code",
      "metadata": {
        "id": "5GAkXk8BWiBD",
        "colab_type": "code",
        "colab": {}
      },
      "source": [
        "d = 0\n",
        "fig,ax = plt.subplots(1,5,figsize=(30,2),squeeze=False)\n",
        "for i in rules:\n",
        "    wpm = players.loc[players['position']==i].groupby(['player'])['wpm'].mean().reset_index()\n",
        "    wpm = wpm.sort_values(['wpm'],ascending=False)\n",
        "    sns.barplot(x=wpm['wpm'],y=wpm['player'],data=wpm,ax=ax[0][d])\n",
        "    ax[0][d].set_title(i)\n",
        "    d += 1  \n",
        "plt.show() "
      ],
      "execution_count": 0,
      "outputs": []
    },
    {
      "cell_type": "code",
      "metadata": {
        "id": "bTlVi9CJYizQ",
        "colab_type": "code",
        "colab": {}
      },
      "source": [
        ""
      ],
      "execution_count": 0,
      "outputs": []
    },
    {
      "cell_type": "markdown",
      "metadata": {
        "id": "tSARZ5wKmEln",
        "colab_type": "text"
      },
      "source": [
        "**to be continued...**"
      ]
    },
    {
      "cell_type": "code",
      "metadata": {
        "id": "IrulakSzmJAY",
        "colab_type": "code",
        "colab": {}
      },
      "source": [
        ""
      ],
      "execution_count": 0,
      "outputs": []
    }
  ]
}